{
 "cells": [
  {
   "cell_type": "code",
   "execution_count": 1,
   "outputs": [],
   "source": [
    "import pandas as pd\n",
    "import matplotlib.pyplot as plt\n",
    "import numpy as np\n",
    "\n",
    "plt.style.use('seaborn')"
   ],
   "metadata": {
    "collapsed": false,
    "pycharm": {
     "name": "#%%\n"
    }
   }
  },
  {
   "cell_type": "markdown",
   "source": [
    "csv: comma seperated values의 약자로 콤마로 열이 구분되어 있다\n",
    "tsv: tab~~\n",
    "\n",
    "|이름|설명|\n",
    "|-|-|\n",
    "|read_csv|csv파일을 불러옴|\n",
    "|sep|구분자 설정|\n",
    "|set_option|옵션 설정|\n",
    "|display.max_columns|표시 되는 최대 행(작으면 ... 으로 표시 됨)|"
   ],
   "metadata": {
    "collapsed": false,
    "pycharm": {
     "name": "#%% md\n"
    }
   }
  },
  {
   "cell_type": "code",
   "execution_count": 2,
   "outputs": [],
   "source": [
    "df = pd.read_csv(\"./chipotle.tsv\", sep=\"\\t\")  # 구분자를 tab으로\n",
    "pd.set_option('display.max_columns', 3)"
   ],
   "metadata": {
    "collapsed": false,
    "pycharm": {
     "name": "#%%\n"
    }
   }
  },
  {
   "cell_type": "markdown",
   "source": [
    "shape: dataframe의 모양 (행, 열)"
   ],
   "metadata": {
    "collapsed": false,
    "pycharm": {
     "name": "#%% md\n"
    }
   }
  },
  {
   "cell_type": "code",
   "execution_count": 3,
   "outputs": [
    {
     "data": {
      "text/plain": "(4622, 5)"
     },
     "execution_count": 3,
     "metadata": {},
     "output_type": "execute_result"
    }
   ],
   "source": [
    "df.shape"
   ],
   "metadata": {
    "collapsed": false,
    "pycharm": {
     "name": "#%%\n"
    }
   }
  },
  {
   "cell_type": "markdown",
   "source": [
    "## info\n",
    "전반적인 정보를 보여준다.\n",
    "\n",
    "여기서 결측값(null)을 확인해야 한다."
   ],
   "metadata": {
    "collapsed": false,
    "pycharm": {
     "name": "#%% md\n"
    }
   }
  },
  {
   "cell_type": "code",
   "execution_count": 4,
   "outputs": [
    {
     "name": "stdout",
     "output_type": "stream",
     "text": [
      "<class 'pandas.core.frame.DataFrame'>\n",
      "RangeIndex: 4622 entries, 0 to 4621\n",
      "Data columns (total 5 columns):\n",
      " #   Column              Non-Null Count  Dtype \n",
      "---  ------              --------------  ----- \n",
      " 0   order_id            4622 non-null   int64 \n",
      " 1   quantity            4622 non-null   int64 \n",
      " 2   item_name           4622 non-null   object\n",
      " 3   choice_description  3376 non-null   object\n",
      " 4   item_price          4622 non-null   object\n",
      "dtypes: int64(2), object(3)\n",
      "memory usage: 180.7+ KB\n"
     ]
    }
   ],
   "source": [
    "df.info()"
   ],
   "metadata": {
    "collapsed": false,
    "pycharm": {
     "name": "#%%\n"
    }
   }
  },
  {
   "cell_type": "markdown",
   "source": [
    "이 외에도 isnull이라는 것을 사용해서 결측값을 확인할 수 있다.\n",
    "\n",
    "결측값을 채울 때는 fillna를 사용한다.\n",
    "꼭!!! 결측값을 채우고 나서 대입해야 값이 나온다."
   ],
   "metadata": {
    "collapsed": false,
    "pycharm": {
     "name": "#%% md\n"
    }
   }
  },
  {
   "cell_type": "code",
   "execution_count": 5,
   "outputs": [],
   "source": [
    "df.isnull().sum()\n",
    "df['choice_description'] = df['choice_description'].fillna('[]')"
   ],
   "metadata": {
    "collapsed": false,
    "pycharm": {
     "name": "#%%\n"
    }
   }
  },
  {
   "cell_type": "markdown",
   "source": [
    "## head\n",
    "위에서 부터 다섯줄"
   ],
   "metadata": {
    "collapsed": false,
    "pycharm": {
     "name": "#%% md\n"
    }
   }
  },
  {
   "cell_type": "code",
   "execution_count": 6,
   "outputs": [
    {
     "data": {
      "text/plain": "   order_id  ...  item_price\n0         1  ...      $2.39 \n1         1  ...      $3.39 \n2         1  ...      $3.39 \n3         1  ...      $2.39 \n4         2  ...     $16.98 \n\n[5 rows x 5 columns]",
      "text/html": "<div>\n<style scoped>\n    .dataframe tbody tr th:only-of-type {\n        vertical-align: middle;\n    }\n\n    .dataframe tbody tr th {\n        vertical-align: top;\n    }\n\n    .dataframe thead th {\n        text-align: right;\n    }\n</style>\n<table border=\"1\" class=\"dataframe\">\n  <thead>\n    <tr style=\"text-align: right;\">\n      <th></th>\n      <th>order_id</th>\n      <th>...</th>\n      <th>item_price</th>\n    </tr>\n  </thead>\n  <tbody>\n    <tr>\n      <th>0</th>\n      <td>1</td>\n      <td>...</td>\n      <td>$2.39</td>\n    </tr>\n    <tr>\n      <th>1</th>\n      <td>1</td>\n      <td>...</td>\n      <td>$3.39</td>\n    </tr>\n    <tr>\n      <th>2</th>\n      <td>1</td>\n      <td>...</td>\n      <td>$3.39</td>\n    </tr>\n    <tr>\n      <th>3</th>\n      <td>1</td>\n      <td>...</td>\n      <td>$2.39</td>\n    </tr>\n    <tr>\n      <th>4</th>\n      <td>2</td>\n      <td>...</td>\n      <td>$16.98</td>\n    </tr>\n  </tbody>\n</table>\n<p>5 rows × 5 columns</p>\n</div>"
     },
     "execution_count": 6,
     "metadata": {},
     "output_type": "execute_result"
    }
   ],
   "source": [
    "df.head()"
   ],
   "metadata": {
    "collapsed": false,
    "pycharm": {
     "name": "#%%\n"
    }
   }
  },
  {
   "cell_type": "code",
   "execution_count": 7,
   "outputs": [
    {
     "data": {
      "text/plain": "   order_id  quantity                              item_name  \\\n0         1         1           Chips and Fresh Tomato Salsa   \n1         1         1                                   Izze   \n2         1         1                       Nantucket Nectar   \n3         1         1  Chips and Tomatillo-Green Chili Salsa   \n4         2         2                           Chicken Bowl   \n\n                                  choice_description item_price  \n0                                                 []     $2.39   \n1                                       [Clementine]     $3.39   \n2                                            [Apple]     $3.39   \n3                                                 []     $2.39   \n4  [Tomatillo-Red Chili Salsa (Hot), [Black Beans...    $16.98   ",
      "text/html": "<div>\n<style scoped>\n    .dataframe tbody tr th:only-of-type {\n        vertical-align: middle;\n    }\n\n    .dataframe tbody tr th {\n        vertical-align: top;\n    }\n\n    .dataframe thead th {\n        text-align: right;\n    }\n</style>\n<table border=\"1\" class=\"dataframe\">\n  <thead>\n    <tr style=\"text-align: right;\">\n      <th></th>\n      <th>order_id</th>\n      <th>quantity</th>\n      <th>item_name</th>\n      <th>choice_description</th>\n      <th>item_price</th>\n    </tr>\n  </thead>\n  <tbody>\n    <tr>\n      <th>0</th>\n      <td>1</td>\n      <td>1</td>\n      <td>Chips and Fresh Tomato Salsa</td>\n      <td>[]</td>\n      <td>$2.39</td>\n    </tr>\n    <tr>\n      <th>1</th>\n      <td>1</td>\n      <td>1</td>\n      <td>Izze</td>\n      <td>[Clementine]</td>\n      <td>$3.39</td>\n    </tr>\n    <tr>\n      <th>2</th>\n      <td>1</td>\n      <td>1</td>\n      <td>Nantucket Nectar</td>\n      <td>[Apple]</td>\n      <td>$3.39</td>\n    </tr>\n    <tr>\n      <th>3</th>\n      <td>1</td>\n      <td>1</td>\n      <td>Chips and Tomatillo-Green Chili Salsa</td>\n      <td>[]</td>\n      <td>$2.39</td>\n    </tr>\n    <tr>\n      <th>4</th>\n      <td>2</td>\n      <td>2</td>\n      <td>Chicken Bowl</td>\n      <td>[Tomatillo-Red Chili Salsa (Hot), [Black Beans...</td>\n      <td>$16.98</td>\n    </tr>\n  </tbody>\n</table>\n</div>"
     },
     "execution_count": 7,
     "metadata": {},
     "output_type": "execute_result"
    }
   ],
   "source": [
    "pd.set_option('display.max_columns', 100)\n",
    "df.head()"
   ],
   "metadata": {
    "collapsed": false,
    "pycharm": {
     "name": "#%%\n"
    }
   }
  },
  {
   "cell_type": "markdown",
   "source": [
    "## describe\n",
    "기초 통계량.\n",
    "numeric(int, float) 칼럼에 대해서만 알려준다."
   ],
   "metadata": {
    "collapsed": false,
    "pycharm": {
     "name": "#%% md\n"
    }
   }
  },
  {
   "cell_type": "code",
   "execution_count": 8,
   "outputs": [
    {
     "data": {
      "text/plain": "          order_id     quantity\ncount  4622.000000  4622.000000\nmean    927.254868     1.075725\nstd     528.890796     0.410186\nmin       1.000000     1.000000\n25%     477.250000     1.000000\n50%     926.000000     1.000000\n75%    1393.000000     1.000000\nmax    1834.000000    15.000000",
      "text/html": "<div>\n<style scoped>\n    .dataframe tbody tr th:only-of-type {\n        vertical-align: middle;\n    }\n\n    .dataframe tbody tr th {\n        vertical-align: top;\n    }\n\n    .dataframe thead th {\n        text-align: right;\n    }\n</style>\n<table border=\"1\" class=\"dataframe\">\n  <thead>\n    <tr style=\"text-align: right;\">\n      <th></th>\n      <th>order_id</th>\n      <th>quantity</th>\n    </tr>\n  </thead>\n  <tbody>\n    <tr>\n      <th>count</th>\n      <td>4622.000000</td>\n      <td>4622.000000</td>\n    </tr>\n    <tr>\n      <th>mean</th>\n      <td>927.254868</td>\n      <td>1.075725</td>\n    </tr>\n    <tr>\n      <th>std</th>\n      <td>528.890796</td>\n      <td>0.410186</td>\n    </tr>\n    <tr>\n      <th>min</th>\n      <td>1.000000</td>\n      <td>1.000000</td>\n    </tr>\n    <tr>\n      <th>25%</th>\n      <td>477.250000</td>\n      <td>1.000000</td>\n    </tr>\n    <tr>\n      <th>50%</th>\n      <td>926.000000</td>\n      <td>1.000000</td>\n    </tr>\n    <tr>\n      <th>75%</th>\n      <td>1393.000000</td>\n      <td>1.000000</td>\n    </tr>\n    <tr>\n      <th>max</th>\n      <td>1834.000000</td>\n      <td>15.000000</td>\n    </tr>\n  </tbody>\n</table>\n</div>"
     },
     "execution_count": 8,
     "metadata": {},
     "output_type": "execute_result"
    }
   ],
   "source": [
    "df.describe()"
   ],
   "metadata": {
    "collapsed": false,
    "pycharm": {
     "name": "#%%\n"
    }
   }
  },
  {
   "cell_type": "markdown",
   "source": [
    "## 데이터 전처리\n",
    "여기서 item_price는 사실상 numeric한 변수인데, `$` 때문에 문자로 취급 됐다\n",
    "\n",
    "그리고 order_id는 numeric해봤자 쓸모가 없기 때문에 object로 다시 바꿔준다."
   ],
   "metadata": {
    "collapsed": false,
    "pycharm": {
     "name": "#%% md\n"
    }
   }
  },
  {
   "cell_type": "code",
   "execution_count": 9,
   "outputs": [],
   "source": [
    "df['order_id'] = df['order_id'].astype(str)\n",
    "df['item_price'] = df['item_price'].apply(lambda x: float(x[1:]))"
   ],
   "metadata": {
    "collapsed": false,
    "pycharm": {
     "name": "#%%\n"
    }
   }
  },
  {
   "cell_type": "code",
   "execution_count": 10,
   "outputs": [
    {
     "data": {
      "text/plain": "          quantity   item_price\ncount  4622.000000  4622.000000\nmean      1.075725     7.464336\nstd       0.410186     4.245557\nmin       1.000000     1.090000\n25%       1.000000     3.390000\n50%       1.000000     8.750000\n75%       1.000000     9.250000\nmax      15.000000    44.250000",
      "text/html": "<div>\n<style scoped>\n    .dataframe tbody tr th:only-of-type {\n        vertical-align: middle;\n    }\n\n    .dataframe tbody tr th {\n        vertical-align: top;\n    }\n\n    .dataframe thead th {\n        text-align: right;\n    }\n</style>\n<table border=\"1\" class=\"dataframe\">\n  <thead>\n    <tr style=\"text-align: right;\">\n      <th></th>\n      <th>quantity</th>\n      <th>item_price</th>\n    </tr>\n  </thead>\n  <tbody>\n    <tr>\n      <th>count</th>\n      <td>4622.000000</td>\n      <td>4622.000000</td>\n    </tr>\n    <tr>\n      <th>mean</th>\n      <td>1.075725</td>\n      <td>7.464336</td>\n    </tr>\n    <tr>\n      <th>std</th>\n      <td>0.410186</td>\n      <td>4.245557</td>\n    </tr>\n    <tr>\n      <th>min</th>\n      <td>1.000000</td>\n      <td>1.090000</td>\n    </tr>\n    <tr>\n      <th>25%</th>\n      <td>1.000000</td>\n      <td>3.390000</td>\n    </tr>\n    <tr>\n      <th>50%</th>\n      <td>1.000000</td>\n      <td>8.750000</td>\n    </tr>\n    <tr>\n      <th>75%</th>\n      <td>1.000000</td>\n      <td>9.250000</td>\n    </tr>\n    <tr>\n      <th>max</th>\n      <td>15.000000</td>\n      <td>44.250000</td>\n    </tr>\n  </tbody>\n</table>\n</div>"
     },
     "execution_count": 10,
     "metadata": {},
     "output_type": "execute_result"
    }
   ],
   "source": [
    "df.describe()"
   ],
   "metadata": {
    "collapsed": false,
    "pycharm": {
     "name": "#%%\n"
    }
   }
  },
  {
   "cell_type": "code",
   "execution_count": 11,
   "outputs": [
    {
     "data": {
      "text/plain": "  order_id  quantity                              item_name  \\\n0        1         1           Chips and Fresh Tomato Salsa   \n1        1         1                                   Izze   \n2        1         1                       Nantucket Nectar   \n3        1         1  Chips and Tomatillo-Green Chili Salsa   \n4        2         2                           Chicken Bowl   \n\n                                  choice_description  item_price  \n0                                                 []        2.39  \n1                                       [Clementine]        3.39  \n2                                            [Apple]        3.39  \n3                                                 []        2.39  \n4  [Tomatillo-Red Chili Salsa (Hot), [Black Beans...       16.98  ",
      "text/html": "<div>\n<style scoped>\n    .dataframe tbody tr th:only-of-type {\n        vertical-align: middle;\n    }\n\n    .dataframe tbody tr th {\n        vertical-align: top;\n    }\n\n    .dataframe thead th {\n        text-align: right;\n    }\n</style>\n<table border=\"1\" class=\"dataframe\">\n  <thead>\n    <tr style=\"text-align: right;\">\n      <th></th>\n      <th>order_id</th>\n      <th>quantity</th>\n      <th>item_name</th>\n      <th>choice_description</th>\n      <th>item_price</th>\n    </tr>\n  </thead>\n  <tbody>\n    <tr>\n      <th>0</th>\n      <td>1</td>\n      <td>1</td>\n      <td>Chips and Fresh Tomato Salsa</td>\n      <td>[]</td>\n      <td>2.39</td>\n    </tr>\n    <tr>\n      <th>1</th>\n      <td>1</td>\n      <td>1</td>\n      <td>Izze</td>\n      <td>[Clementine]</td>\n      <td>3.39</td>\n    </tr>\n    <tr>\n      <th>2</th>\n      <td>1</td>\n      <td>1</td>\n      <td>Nantucket Nectar</td>\n      <td>[Apple]</td>\n      <td>3.39</td>\n    </tr>\n    <tr>\n      <th>3</th>\n      <td>1</td>\n      <td>1</td>\n      <td>Chips and Tomatillo-Green Chili Salsa</td>\n      <td>[]</td>\n      <td>2.39</td>\n    </tr>\n    <tr>\n      <th>4</th>\n      <td>2</td>\n      <td>2</td>\n      <td>Chicken Bowl</td>\n      <td>[Tomatillo-Red Chili Salsa (Hot), [Black Beans...</td>\n      <td>16.98</td>\n    </tr>\n  </tbody>\n</table>\n</div>"
     },
     "execution_count": 11,
     "metadata": {},
     "output_type": "execute_result"
    }
   ],
   "source": [
    "df.head()"
   ],
   "metadata": {
    "collapsed": false,
    "pycharm": {
     "name": "#%%\n"
    }
   }
  },
  {
   "cell_type": "markdown",
   "source": [
    "* 각 행을 선택했을 때 반환 타입: Series\n",
    "* 여러 행을 선택했을 때 반환 타입: DataFrame"
   ],
   "metadata": {
    "collapsed": false,
    "pycharm": {
     "name": "#%% md\n"
    }
   }
  },
  {
   "cell_type": "code",
   "execution_count": 12,
   "outputs": [
    {
     "data": {
      "text/plain": "pandas.core.series.Series"
     },
     "execution_count": 12,
     "metadata": {},
     "output_type": "execute_result"
    }
   ],
   "source": [
    "type(df['order_id'])"
   ],
   "metadata": {
    "collapsed": false,
    "pycharm": {
     "name": "#%%\n"
    }
   }
  },
  {
   "cell_type": "code",
   "execution_count": 13,
   "outputs": [
    {
     "data": {
      "text/plain": "pandas.core.frame.DataFrame"
     },
     "execution_count": 13,
     "metadata": {},
     "output_type": "execute_result"
    }
   ],
   "source": [
    "type(df[['order_id', 'item_price']])"
   ],
   "metadata": {
    "collapsed": false,
    "pycharm": {
     "name": "#%%\n"
    }
   }
  },
  {
   "cell_type": "code",
   "execution_count": 14,
   "outputs": [
    {
     "data": {
      "text/plain": "     order_id  item_price\n0           1        2.39\n1           1        3.39\n2           1        3.39\n3           1        2.39\n4           2       16.98\n...       ...         ...\n4617     1833       11.75\n4618     1833       11.75\n4619     1834       11.25\n4620     1834        8.75\n4621     1834        8.75\n\n[4622 rows x 2 columns]",
      "text/html": "<div>\n<style scoped>\n    .dataframe tbody tr th:only-of-type {\n        vertical-align: middle;\n    }\n\n    .dataframe tbody tr th {\n        vertical-align: top;\n    }\n\n    .dataframe thead th {\n        text-align: right;\n    }\n</style>\n<table border=\"1\" class=\"dataframe\">\n  <thead>\n    <tr style=\"text-align: right;\">\n      <th></th>\n      <th>order_id</th>\n      <th>item_price</th>\n    </tr>\n  </thead>\n  <tbody>\n    <tr>\n      <th>0</th>\n      <td>1</td>\n      <td>2.39</td>\n    </tr>\n    <tr>\n      <th>1</th>\n      <td>1</td>\n      <td>3.39</td>\n    </tr>\n    <tr>\n      <th>2</th>\n      <td>1</td>\n      <td>3.39</td>\n    </tr>\n    <tr>\n      <th>3</th>\n      <td>1</td>\n      <td>2.39</td>\n    </tr>\n    <tr>\n      <th>4</th>\n      <td>2</td>\n      <td>16.98</td>\n    </tr>\n    <tr>\n      <th>...</th>\n      <td>...</td>\n      <td>...</td>\n    </tr>\n    <tr>\n      <th>4617</th>\n      <td>1833</td>\n      <td>11.75</td>\n    </tr>\n    <tr>\n      <th>4618</th>\n      <td>1833</td>\n      <td>11.75</td>\n    </tr>\n    <tr>\n      <th>4619</th>\n      <td>1834</td>\n      <td>11.25</td>\n    </tr>\n    <tr>\n      <th>4620</th>\n      <td>1834</td>\n      <td>8.75</td>\n    </tr>\n    <tr>\n      <th>4621</th>\n      <td>1834</td>\n      <td>8.75</td>\n    </tr>\n  </tbody>\n</table>\n<p>4622 rows × 2 columns</p>\n</div>"
     },
     "execution_count": 14,
     "metadata": {},
     "output_type": "execute_result"
    }
   ],
   "source": [
    "df[['order_id', 'item_price']]"
   ],
   "metadata": {
    "collapsed": false,
    "pycharm": {
     "name": "#%%\n"
    }
   }
  },
  {
   "cell_type": "code",
   "execution_count": 15,
   "outputs": [
    {
     "data": {
      "text/plain": "     order_id  quantity                              item_name  \\\n0           1         1           Chips and Fresh Tomato Salsa   \n1           1         1                                   Izze   \n2           1         1                       Nantucket Nectar   \n3           1         1  Chips and Tomatillo-Green Chili Salsa   \n4           2         2                           Chicken Bowl   \n...       ...       ...                                    ...   \n4617     1833         1                          Steak Burrito   \n4618     1833         1                          Steak Burrito   \n4619     1834         1                     Chicken Salad Bowl   \n4620     1834         1                     Chicken Salad Bowl   \n4621     1834         1                     Chicken Salad Bowl   \n\n                                     choice_description  item_price  \n0                                                    []        2.39  \n1                                          [Clementine]        3.39  \n2                                               [Apple]        3.39  \n3                                                    []        2.39  \n4     [Tomatillo-Red Chili Salsa (Hot), [Black Beans...       16.98  \n...                                                 ...         ...  \n4617  [Fresh Tomato Salsa, [Rice, Black Beans, Sour ...       11.75  \n4618  [Fresh Tomato Salsa, [Rice, Sour Cream, Cheese...       11.75  \n4619  [Fresh Tomato Salsa, [Fajita Vegetables, Pinto...       11.25  \n4620  [Fresh Tomato Salsa, [Fajita Vegetables, Lettu...        8.75  \n4621  [Fresh Tomato Salsa, [Fajita Vegetables, Pinto...        8.75  \n\n[4622 rows x 5 columns]",
      "text/html": "<div>\n<style scoped>\n    .dataframe tbody tr th:only-of-type {\n        vertical-align: middle;\n    }\n\n    .dataframe tbody tr th {\n        vertical-align: top;\n    }\n\n    .dataframe thead th {\n        text-align: right;\n    }\n</style>\n<table border=\"1\" class=\"dataframe\">\n  <thead>\n    <tr style=\"text-align: right;\">\n      <th></th>\n      <th>order_id</th>\n      <th>quantity</th>\n      <th>item_name</th>\n      <th>choice_description</th>\n      <th>item_price</th>\n    </tr>\n  </thead>\n  <tbody>\n    <tr>\n      <th>0</th>\n      <td>1</td>\n      <td>1</td>\n      <td>Chips and Fresh Tomato Salsa</td>\n      <td>[]</td>\n      <td>2.39</td>\n    </tr>\n    <tr>\n      <th>1</th>\n      <td>1</td>\n      <td>1</td>\n      <td>Izze</td>\n      <td>[Clementine]</td>\n      <td>3.39</td>\n    </tr>\n    <tr>\n      <th>2</th>\n      <td>1</td>\n      <td>1</td>\n      <td>Nantucket Nectar</td>\n      <td>[Apple]</td>\n      <td>3.39</td>\n    </tr>\n    <tr>\n      <th>3</th>\n      <td>1</td>\n      <td>1</td>\n      <td>Chips and Tomatillo-Green Chili Salsa</td>\n      <td>[]</td>\n      <td>2.39</td>\n    </tr>\n    <tr>\n      <th>4</th>\n      <td>2</td>\n      <td>2</td>\n      <td>Chicken Bowl</td>\n      <td>[Tomatillo-Red Chili Salsa (Hot), [Black Beans...</td>\n      <td>16.98</td>\n    </tr>\n    <tr>\n      <th>...</th>\n      <td>...</td>\n      <td>...</td>\n      <td>...</td>\n      <td>...</td>\n      <td>...</td>\n    </tr>\n    <tr>\n      <th>4617</th>\n      <td>1833</td>\n      <td>1</td>\n      <td>Steak Burrito</td>\n      <td>[Fresh Tomato Salsa, [Rice, Black Beans, Sour ...</td>\n      <td>11.75</td>\n    </tr>\n    <tr>\n      <th>4618</th>\n      <td>1833</td>\n      <td>1</td>\n      <td>Steak Burrito</td>\n      <td>[Fresh Tomato Salsa, [Rice, Sour Cream, Cheese...</td>\n      <td>11.75</td>\n    </tr>\n    <tr>\n      <th>4619</th>\n      <td>1834</td>\n      <td>1</td>\n      <td>Chicken Salad Bowl</td>\n      <td>[Fresh Tomato Salsa, [Fajita Vegetables, Pinto...</td>\n      <td>11.25</td>\n    </tr>\n    <tr>\n      <th>4620</th>\n      <td>1834</td>\n      <td>1</td>\n      <td>Chicken Salad Bowl</td>\n      <td>[Fresh Tomato Salsa, [Fajita Vegetables, Lettu...</td>\n      <td>8.75</td>\n    </tr>\n    <tr>\n      <th>4621</th>\n      <td>1834</td>\n      <td>1</td>\n      <td>Chicken Salad Bowl</td>\n      <td>[Fresh Tomato Salsa, [Fajita Vegetables, Pinto...</td>\n      <td>8.75</td>\n    </tr>\n  </tbody>\n</table>\n<p>4622 rows × 5 columns</p>\n</div>"
     },
     "execution_count": 15,
     "metadata": {},
     "output_type": "execute_result"
    }
   ],
   "source": [
    "df"
   ],
   "metadata": {
    "collapsed": false,
    "pycharm": {
     "name": "#%%\n"
    }
   }
  },
  {
   "cell_type": "markdown",
   "source": [
    "## Series.unique()\n",
    "반환 타입: ndarray"
   ],
   "metadata": {
    "collapsed": false,
    "pycharm": {
     "name": "#%% md\n"
    }
   }
  },
  {
   "cell_type": "code",
   "execution_count": 16,
   "outputs": [
    {
     "data": {
      "text/plain": "array(['1', '2', '3', ..., '1832', '1833', '1834'], dtype=object)"
     },
     "execution_count": 16,
     "metadata": {},
     "output_type": "execute_result"
    }
   ],
   "source": [
    "df['order_id'].unique()"
   ],
   "metadata": {
    "collapsed": false,
    "pycharm": {
     "name": "#%%\n"
    }
   }
  },
  {
   "cell_type": "code",
   "execution_count": 17,
   "outputs": [
    {
     "data": {
      "text/plain": "1834"
     },
     "execution_count": 17,
     "metadata": {},
     "output_type": "execute_result"
    }
   ],
   "source": [
    "# 주문 개수\n",
    "df['order_id'].unique().size"
   ],
   "metadata": {
    "collapsed": false,
    "pycharm": {
     "name": "#%%\n"
    }
   }
  },
  {
   "cell_type": "code",
   "execution_count": 18,
   "outputs": [
    {
     "data": {
      "text/plain": "array([1, 2, 3, 4, 5])"
     },
     "execution_count": 18,
     "metadata": {},
     "output_type": "execute_result"
    }
   ],
   "source": [
    "pd.Series([1, 2, 3, 3, 3, 4, 4, 5\n",
    "           #%%"
   ],
   "metadata": {
    "collapsed": false,
    "pycharm": {
     "name": "#%%\n"
    }
   }
  },
  {
   "cell_type": "code",
   "execution_count": null,
   "outputs": [],
   "source": [],
   "metadata": {
    "collapsed": false,
    "pycharm": {
     "name": "#%%\n"
    }
   }
  },
  {
   "cell_type": "code",
   "execution_count": null,
   "outputs": [],
   "source": [],
   "metadata": {
    "collapsed": false,
    "pycharm": {
     "name": "#%%\n"
    }
   }
  },
  {
   "cell_type": "code",
   "execution_count": null,
   "outputs": [],
   "source": [],
   "metadata": {
    "collapsed": false,
    "pycharm": {
     "name": "#%%\n"
    }
   }
  },
  {
   "cell_type": "code",
   "execution_count": null,
   "outputs": [],
   "source": [
    "f.df.df.]).unique()"
   ],
   "metadata": {
    "collapsed": false,
    "pycharm": {
     "name": "#%%\n"
    }
   }
  },
  {
   "cell_type": "code",
   "execution_count": 19,
   "outputs": [
    {
     "data": {
      "text/plain": "array(['Chips and Fresh Tomato Salsa', 'Izze', 'Nantucket Nectar',\n       'Chips and Tomatillo-Green Chili Salsa', 'Chicken Bowl',\n       'Side of Chips', 'Steak Burrito', 'Steak Soft Tacos',\n       'Chips and Guacamole', 'Chicken Crispy Tacos',\n       'Chicken Soft Tacos', 'Chicken Burrito', 'Canned Soda',\n       'Barbacoa Burrito', 'Carnitas Burrito', 'Carnitas Bowl',\n       'Bottled Water', 'Chips and Tomatillo Green Chili Salsa',\n       'Barbacoa Bowl', 'Chips', 'Chicken Salad Bowl', 'Steak Bowl',\n       'Barbacoa Soft Tacos', 'Veggie Burrito', 'Veggie Bowl',\n       'Steak Crispy Tacos', 'Chips and Tomatillo Red Chili Salsa',\n       'Barbacoa Crispy Tacos', 'Veggie Salad Bowl',\n       'Chips and Roasted Chili-Corn Salsa',\n       'Chips and Roasted Chili Corn Salsa', 'Carnitas Soft Tacos',\n       'Chicken Salad', 'Canned Soft Drink', 'Steak Salad Bowl',\n       '6 Pack Soft Drink', 'Chips and Tomatillo-Red Chili Salsa', 'Bowl',\n       'Burrito', 'Crispy Tacos', 'Carnitas Crispy Tacos', 'Steak Salad',\n       'Chips and Mild Fresh Tomato Salsa', 'Veggie Soft Tacos',\n       'Carnitas Salad Bowl', 'Barbacoa Salad Bowl', 'Salad',\n       'Veggie Crispy Tacos', 'Veggie Salad', 'Carnitas Salad'],\n      dtype=object)"
     },
     "execution_count": 19,
     "metadata": {},
     "output_type": "execute_result"
    }
   ],
   "source": [
    "df['item_name'].unique()"
   ],
   "metadata": {
    "collapsed": false,
    "pycharm": {
     "name": "#%%\n"
    }
   }
  },
  {
   "cell_type": "markdown",
   "source": [
    "## Series.value_counts()\n",
    "반환 타입: Series"
   ],
   "metadata": {
    "collapsed": false,
    "pycharm": {
     "name": "#%% md\n"
    }
   }
  },
  {
   "cell_type": "code",
   "execution_count": 20,
   "outputs": [
    {
     "data": {
      "text/plain": "Chicken Bowl                             726\nChicken Burrito                          553\nChips and Guacamole                      479\nSteak Burrito                            368\nCanned Soft Drink                        301\nSteak Bowl                               211\nChips                                    211\nBottled Water                            162\nChicken Soft Tacos                       115\nChicken Salad Bowl                       110\nChips and Fresh Tomato Salsa             110\nCanned Soda                              104\nSide of Chips                            101\nVeggie Burrito                            95\nBarbacoa Burrito                          91\nVeggie Bowl                               85\nCarnitas Bowl                             68\nBarbacoa Bowl                             66\nCarnitas Burrito                          59\nSteak Soft Tacos                          55\n6 Pack Soft Drink                         54\nChips and Tomatillo Red Chili Salsa       48\nChicken Crispy Tacos                      47\nChips and Tomatillo Green Chili Salsa     43\nCarnitas Soft Tacos                       40\nSteak Crispy Tacos                        35\nChips and Tomatillo-Green Chili Salsa     31\nSteak Salad Bowl                          29\nNantucket Nectar                          27\nBarbacoa Soft Tacos                       25\nChips and Roasted Chili Corn Salsa        22\nChips and Tomatillo-Red Chili Salsa       20\nIzze                                      20\nChips and Roasted Chili-Corn Salsa        18\nVeggie Salad Bowl                         18\nBarbacoa Crispy Tacos                     11\nBarbacoa Salad Bowl                       10\nChicken Salad                              9\nVeggie Soft Tacos                          7\nCarnitas Crispy Tacos                      7\nBurrito                                    6\nVeggie Salad                               6\nCarnitas Salad Bowl                        6\nSteak Salad                                4\nBowl                                       2\nSalad                                      2\nCrispy Tacos                               2\nVeggie Crispy Tacos                        1\nCarnitas Salad                             1\nChips and Mild Fresh Tomato Salsa          1\nName: item_name, dtype: int64"
     },
     "execution_count": 20,
     "metadata": {},
     "output_type": "execute_result"
    }
   ],
   "source": [
    "df['item_name'].value_counts()"
   ],
   "metadata": {
    "collapsed": false,
    "pycharm": {
     "name": "#%%\n"
    }
   }
  },
  {
   "cell_type": "code",
   "execution_count": 21,
   "outputs": [
    {
     "data": {
      "text/plain": "50"
     },
     "execution_count": 21,
     "metadata": {},
     "output_type": "execute_result"
    }
   ],
   "source": [
    "df['item_name'].unique().size\n"
   ],
   "metadata": {
    "collapsed": false,
    "pycharm": {
     "name": "#%%\n"
    }
   }
  },
  {
   "cell_type": "code",
   "execution_count": 22,
   "outputs": [
    {
     "data": {
      "text/plain": "50"
     },
     "execution_count": 22,
     "metadata": {},
     "output_type": "execute_result"
    }
   ],
   "source": [
    "df['item_name'].value_counts().size"
   ],
   "metadata": {
    "collapsed": false,
    "pycharm": {
     "name": "#%%\n"
    }
   }
  },
  {
   "cell_type": "code",
   "execution_count": 23,
   "outputs": [
    {
     "data": {
      "text/plain": "array(['6 Pack Soft Drink', 'Barbacoa Bowl', 'Barbacoa Burrito',\n       'Barbacoa Crispy Tacos', 'Barbacoa Salad Bowl',\n       'Barbacoa Soft Tacos', 'Bottled Water', 'Bowl', 'Burrito',\n       'Canned Soda', 'Canned Soft Drink', 'Carnitas Bowl',\n       'Carnitas Burrito', 'Carnitas Crispy Tacos', 'Carnitas Salad',\n       'Carnitas Salad Bowl', 'Carnitas Soft Tacos', 'Chicken Bowl',\n       'Chicken Burrito', 'Chicken Crispy Tacos', 'Chicken Salad',\n       'Chicken Salad Bowl', 'Chicken Soft Tacos', 'Chips',\n       'Chips and Fresh Tomato Salsa', 'Chips and Guacamole',\n       'Chips and Mild Fresh Tomato Salsa',\n       'Chips and Roasted Chili Corn Salsa',\n       'Chips and Roasted Chili-Corn Salsa',\n       'Chips and Tomatillo Green Chili Salsa',\n       'Chips and Tomatillo Red Chili Salsa',\n       'Chips and Tomatillo-Green Chili Salsa',\n       'Chips and Tomatillo-Red Chili Salsa', 'Crispy Tacos', 'Izze',\n       'Nantucket Nectar', 'Salad', 'Side of Chips', 'Steak Bowl',\n       'Steak Burrito', 'Steak Crispy Tacos', 'Steak Salad',\n       'Steak Salad Bowl', 'Steak Soft Tacos', 'Veggie Bowl',\n       'Veggie Burrito', 'Veggie Crispy Tacos', 'Veggie Salad',\n       'Veggie Salad Bowl', 'Veggie Soft Tacos'], dtype=object)"
     },
     "execution_count": 23,
     "metadata": {},
     "output_type": "execute_result"
    }
   ],
   "source": [
    "unique = df['item_name'].unique()\n",
    "unique.sort()\n",
    "unique"
   ],
   "metadata": {
    "collapsed": false,
    "pycharm": {
     "name": "#%%\n"
    }
   }
  },
  {
   "cell_type": "code",
   "execution_count": 24,
   "outputs": [
    {
     "data": {
      "text/plain": "array(['6 Pack Soft Drink', 'Barbacoa Bowl', 'Barbacoa Burrito',\n       'Barbacoa Crispy Tacos', 'Barbacoa Salad Bowl',\n       'Barbacoa Soft Tacos', 'Bottled Water', 'Bowl', 'Burrito',\n       'Canned Soda', 'Canned Soft Drink', 'Carnitas Bowl',\n       'Carnitas Burrito', 'Carnitas Crispy Tacos', 'Carnitas Salad',\n       'Carnitas Salad Bowl', 'Carnitas Soft Tacos', 'Chicken Bowl',\n       'Chicken Burrito', 'Chicken Crispy Tacos', 'Chicken Salad',\n       'Chicken Salad Bowl', 'Chicken Soft Tacos', 'Chips',\n       'Chips and Fresh Tomato Salsa', 'Chips and Guacamole',\n       'Chips and Mild Fresh Tomato Salsa',\n       'Chips and Roasted Chili Corn Salsa',\n       'Chips and Roasted Chili-Corn Salsa',\n       'Chips and Tomatillo Green Chili Salsa',\n       'Chips and Tomatillo Red Chili Salsa',\n       'Chips and Tomatillo-Green Chili Salsa',\n       'Chips and Tomatillo-Red Chili Salsa', 'Crispy Tacos', 'Izze',\n       'Nantucket Nectar', 'Salad', 'Side of Chips', 'Steak Bowl',\n       'Steak Burrito', 'Steak Crispy Tacos', 'Steak Salad',\n       'Steak Salad Bowl', 'Steak Soft Tacos', 'Veggie Bowl',\n       'Veggie Burrito', 'Veggie Crispy Tacos', 'Veggie Salad',\n       'Veggie Salad Bowl', 'Veggie Soft Tacos'], dtype=object)"
     },
     "execution_count": 24,
     "metadata": {},
     "output_type": "execute_result"
    }
   ],
   "source": [
    "value_counts = df['item_name'].value_counts().index.to_numpy()\n",
    "value_counts.sort()\n",
    "value_counts"
   ],
   "metadata": {
    "collapsed": false,
    "pycharm": {
     "name": "#%%\n"
    }
   }
  },
  {
   "cell_type": "code",
   "execution_count": 25,
   "outputs": [
    {
     "data": {
      "text/plain": "a    1\nb    2\nc    3\ndtype: int64"
     },
     "execution_count": 25,
     "metadata": {},
     "output_type": "execute_result"
    }
   ],
   "source": [
    "# 들어가는 데이터는 1차원, index는 무조건 숫자가 아니다.\n",
    "pd.Series([1, 2, 3], index=['a', 'b', 'c'])"
   ],
   "metadata": {
    "collapsed": false,
    "pycharm": {
     "name": "#%%\n"
    }
   }
  },
  {
   "cell_type": "code",
   "execution_count": 26,
   "outputs": [
    {
     "data": {
      "text/plain": "[('Chicken Bowl', 726),\n ('Chicken Burrito', 553),\n ('Chips and Guacamole', 479),\n ('Steak Burrito', 368),\n ('Canned Soft Drink', 301),\n ('Steak Bowl', 211),\n ('Chips', 211),\n ('Bottled Water', 162),\n ('Chicken Soft Tacos', 115),\n ('Chicken Salad Bowl', 110),\n ('Chips and Fresh Tomato Salsa', 110),\n ('Canned Soda', 104),\n ('Side of Chips', 101),\n ('Veggie Burrito', 95),\n ('Barbacoa Burrito', 91),\n ('Veggie Bowl', 85),\n ('Carnitas Bowl', 68),\n ('Barbacoa Bowl', 66),\n ('Carnitas Burrito', 59),\n ('Steak Soft Tacos', 55),\n ('6 Pack Soft Drink', 54),\n ('Chips and Tomatillo Red Chili Salsa', 48),\n ('Chicken Crispy Tacos', 47),\n ('Chips and Tomatillo Green Chili Salsa', 43),\n ('Carnitas Soft Tacos', 40),\n ('Steak Crispy Tacos', 35),\n ('Chips and Tomatillo-Green Chili Salsa', 31),\n ('Steak Salad Bowl', 29),\n ('Nantucket Nectar', 27),\n ('Barbacoa Soft Tacos', 25),\n ('Chips and Roasted Chili Corn Salsa', 22),\n ('Chips and Tomatillo-Red Chili Salsa', 20),\n ('Izze', 20),\n ('Chips and Roasted Chili-Corn Salsa', 18),\n ('Veggie Salad Bowl', 18),\n ('Barbacoa Crispy Tacos', 11),\n ('Barbacoa Salad Bowl', 10),\n ('Chicken Salad', 9),\n ('Veggie Soft Tacos', 7),\n ('Carnitas Crispy Tacos', 7),\n ('Burrito', 6),\n ('Veggie Salad', 6),\n ('Carnitas Salad Bowl', 6),\n ('Steak Salad', 4),\n ('Bowl', 2),\n ('Salad', 2),\n ('Crispy Tacos', 2),\n ('Veggie Crispy Tacos', 1),\n ('Carnitas Salad', 1),\n ('Chips and Mild Fresh Tomato Salsa', 1)]"
     },
     "execution_count": 26,
     "metadata": {},
     "output_type": "execute_result"
    }
   ],
   "source": [
    "list(df['item_name'].value_counts().iteritems())"
   ],
   "metadata": {
    "collapsed": false,
    "pycharm": {
     "name": "#%%\n"
    }
   }
  },
  {
   "cell_type": "markdown",
   "source": [
    "### enumerate: 파이썬 내장 함수\n",
    "enumerate(반복 가능한 객체[, 시작 index])"
   ],
   "metadata": {
    "collapsed": false,
    "pycharm": {
     "name": "#%% md\n"
    }
   }
  },
  {
   "cell_type": "code",
   "execution_count": 27,
   "outputs": [
    {
     "data": {
      "text/plain": "[(1, 'a'), (2, 'b'), (3, 'c'), (4, 'd'), (5, 'e'), (6, 'f'), (7, 'g')]"
     },
     "execution_count": 27,
     "metadata": {},
     "output_type": "execute_result"
    }
   ],
   "source": [
    "list(enumerate(\"abcdefg\", 1))"
   ],
   "metadata": {
    "collapsed": false,
    "pycharm": {
     "name": "#%%\n"
    }
   }
  },
  {
   "cell_type": "code",
   "execution_count": 28,
   "outputs": [
    {
     "data": {
      "text/plain": "[(1, ('Chicken Bowl', 726)),\n (2, ('Chicken Burrito', 553)),\n (3, ('Chips and Guacamole', 479)),\n (4, ('Steak Burrito', 368)),\n (5, ('Canned Soft Drink', 301)),\n (6, ('Steak Bowl', 211)),\n (7, ('Chips', 211)),\n (8, ('Bottled Water', 162)),\n (9, ('Chicken Soft Tacos', 115)),\n (10, ('Chicken Salad Bowl', 110)),\n (11, ('Chips and Fresh Tomato Salsa', 110)),\n (12, ('Canned Soda', 104)),\n (13, ('Side of Chips', 101)),\n (14, ('Veggie Burrito', 95)),\n (15, ('Barbacoa Burrito', 91)),\n (16, ('Veggie Bowl', 85)),\n (17, ('Carnitas Bowl', 68)),\n (18, ('Barbacoa Bowl', 66)),\n (19, ('Carnitas Burrito', 59)),\n (20, ('Steak Soft Tacos', 55)),\n (21, ('6 Pack Soft Drink', 54)),\n (22, ('Chips and Tomatillo Red Chili Salsa', 48)),\n (23, ('Chicken Crispy Tacos', 47)),\n (24, ('Chips and Tomatillo Green Chili Salsa', 43)),\n (25, ('Carnitas Soft Tacos', 40)),\n (26, ('Steak Crispy Tacos', 35)),\n (27, ('Chips and Tomatillo-Green Chili Salsa', 31)),\n (28, ('Steak Salad Bowl', 29)),\n (29, ('Nantucket Nectar', 27)),\n (30, ('Barbacoa Soft Tacos', 25)),\n (31, ('Chips and Roasted Chili Corn Salsa', 22)),\n (32, ('Chips and Tomatillo-Red Chili Salsa', 20)),\n (33, ('Izze', 20)),\n (34, ('Chips and Roasted Chili-Corn Salsa', 18)),\n (35, ('Veggie Salad Bowl', 18)),\n (36, ('Barbacoa Crispy Tacos', 11)),\n (37, ('Barbacoa Salad Bowl', 10)),\n (38, ('Chicken Salad', 9)),\n (39, ('Veggie Soft Tacos', 7)),\n (40, ('Carnitas Crispy Tacos', 7)),\n (41, ('Burrito', 6)),\n (42, ('Veggie Salad', 6)),\n (43, ('Carnitas Salad Bowl', 6)),\n (44, ('Steak Salad', 4)),\n (45, ('Bowl', 2)),\n (46, ('Salad', 2)),\n (47, ('Crispy Tacos', 2)),\n (48, ('Veggie Crispy Tacos', 1)),\n (49, ('Carnitas Salad', 1)),\n (50, ('Chips and Mild Fresh Tomato Salsa', 1))]"
     },
     "execution_count": 28,
     "metadata": {},
     "output_type": "execute_result"
    }
   ],
   "source": [
    "list(enumerate(df['item_name'].value_counts().iteritems(), 1))"
   ],
   "metadata": {
    "collapsed": false,
    "pycharm": {
     "name": "#%%\n"
    }
   }
  },
  {
   "cell_type": "code",
   "execution_count": 29,
   "outputs": [
    {
     "name": "stdout",
     "output_type": "stream",
     "text": [
      "1.\t726\tChicken Bowl\n",
      "2.\t553\tChicken Burrito\n",
      "3.\t479\tChips and Guacamole\n",
      "4.\t368\tSteak Burrito\n",
      "5.\t301\tCanned Soft Drink\n",
      "6.\t211\tSteak Bowl\n",
      "7.\t211\tChips\n",
      "8.\t162\tBottled Water\n",
      "9.\t115\tChicken Soft Tacos\n",
      "10.\t110\tChicken Salad Bowl\n",
      "11.\t110\tChips and Fresh Tomato Salsa\n",
      "12.\t104\tCanned Soda\n",
      "13.\t101\tSide of Chips\n",
      "14.\t95\tVeggie Burrito\n",
      "15.\t91\tBarbacoa Burrito\n",
      "16.\t85\tVeggie Bowl\n",
      "17.\t68\tCarnitas Bowl\n",
      "18.\t66\tBarbacoa Bowl\n",
      "19.\t59\tCarnitas Burrito\n",
      "20.\t55\tSteak Soft Tacos\n",
      "21.\t54\t6 Pack Soft Drink\n",
      "22.\t48\tChips and Tomatillo Red Chili Salsa\n",
      "23.\t47\tChicken Crispy Tacos\n",
      "24.\t43\tChips and Tomatillo Green Chili Salsa\n",
      "25.\t40\tCarnitas Soft Tacos\n",
      "26.\t35\tSteak Crispy Tacos\n",
      "27.\t31\tChips and Tomatillo-Green Chili Salsa\n",
      "28.\t29\tSteak Salad Bowl\n",
      "29.\t27\tNantucket Nectar\n",
      "30.\t25\tBarbacoa Soft Tacos\n",
      "31.\t22\tChips and Roasted Chili Corn Salsa\n",
      "32.\t20\tChips and Tomatillo-Red Chili Salsa\n",
      "33.\t20\tIzze\n",
      "34.\t18\tChips and Roasted Chili-Corn Salsa\n",
      "35.\t18\tVeggie Salad Bowl\n",
      "36.\t11\tBarbacoa Crispy Tacos\n",
      "37.\t10\tBarbacoa Salad Bowl\n",
      "38.\t9\tChicken Salad\n",
      "39.\t7\tVeggie Soft Tacos\n",
      "40.\t7\tCarnitas Crispy Tacos\n",
      "41.\t6\tBurrito\n",
      "42.\t6\tVeggie Salad\n",
      "43.\t6\tCarnitas Salad Bowl\n",
      "44.\t4\tSteak Salad\n",
      "45.\t2\tBowl\n",
      "46.\t2\tSalad\n",
      "47.\t2\tCrispy Tacos\n",
      "48.\t1\tVeggie Crispy Tacos\n",
      "49.\t1\tCarnitas Salad\n",
      "50.\t1\tChips and Mild Fresh Tomato Salsa\n"
     ]
    }
   ],
   "source": [
    "for idx, (name, counts) in enumerate(df['item_name'].value_counts().iteritems(), 1):\n",
    "    print(f\"{idx}.\\t{counts}\\t{name}\")"
   ],
   "metadata": {
    "collapsed": false,
    "pycharm": {
     "name": "#%%\n"
    }
   }
  },
  {
   "cell_type": "markdown",
   "source": [
    "## groupby"
   ],
   "metadata": {
    "collapsed": false,
    "pycharm": {
     "name": "#%% md\n"
    }
   }
  },
  {
   "cell_type": "code",
   "execution_count": 30,
   "outputs": [
    {
     "data": {
      "text/plain": "item_name\n6 Pack Soft Drink                         54\nBarbacoa Bowl                             66\nBarbacoa Burrito                          91\nBarbacoa Crispy Tacos                     11\nBarbacoa Salad Bowl                       10\nBarbacoa Soft Tacos                       25\nBottled Water                            162\nBowl                                       2\nBurrito                                    6\nCanned Soda                              104\nCanned Soft Drink                        301\nCarnitas Bowl                             68\nCarnitas Burrito                          59\nCarnitas Crispy Tacos                      7\nCarnitas Salad                             1\nCarnitas Salad Bowl                        6\nCarnitas Soft Tacos                       40\nChicken Bowl                             726\nChicken Burrito                          553\nChicken Crispy Tacos                      47\nChicken Salad                              9\nChicken Salad Bowl                       110\nChicken Soft Tacos                       115\nChips                                    211\nChips and Fresh Tomato Salsa             110\nChips and Guacamole                      479\nChips and Mild Fresh Tomato Salsa          1\nChips and Roasted Chili Corn Salsa        22\nChips and Roasted Chili-Corn Salsa        18\nChips and Tomatillo Green Chili Salsa     43\nChips and Tomatillo Red Chili Salsa       48\nChips and Tomatillo-Green Chili Salsa     31\nChips and Tomatillo-Red Chili Salsa       20\nCrispy Tacos                               2\nIzze                                      20\nNantucket Nectar                          27\nSalad                                      2\nSide of Chips                            101\nSteak Bowl                               211\nSteak Burrito                            368\nSteak Crispy Tacos                        35\nSteak Salad                                4\nSteak Salad Bowl                          29\nSteak Soft Tacos                          55\nVeggie Bowl                               85\nVeggie Burrito                            95\nVeggie Crispy Tacos                        1\nVeggie Salad                               6\nVeggie Salad Bowl                         18\nVeggie Soft Tacos                          7\nName: order_id, dtype: int64"
     },
     "execution_count": 30,
     "metadata": {},
     "output_type": "execute_result"
    }
   ],
   "source": [
    "# 음식 주문 횟수\n",
    "df.groupby('item_name')['order_id'].count()"
   ],
   "metadata": {
    "collapsed": false,
    "pycharm": {
     "name": "#%%\n"
    }
   }
  },
  {
   "cell_type": "code",
   "execution_count": 31,
   "outputs": [
    {
     "data": {
      "text/plain": "item_name\n6 Pack Soft Drink                         55\nBarbacoa Bowl                             66\nBarbacoa Burrito                          91\nBarbacoa Crispy Tacos                     12\nBarbacoa Salad Bowl                       10\nBarbacoa Soft Tacos                       25\nBottled Water                            211\nBowl                                       4\nBurrito                                    6\nCanned Soda                              126\nCanned Soft Drink                        351\nCarnitas Bowl                             71\nCarnitas Burrito                          60\nCarnitas Crispy Tacos                      8\nCarnitas Salad                             1\nCarnitas Salad Bowl                        6\nCarnitas Soft Tacos                       40\nChicken Bowl                             761\nChicken Burrito                          591\nChicken Crispy Tacos                      50\nChicken Salad                              9\nChicken Salad Bowl                       123\nChicken Soft Tacos                       120\nChips                                    230\nChips and Fresh Tomato Salsa             130\nChips and Guacamole                      506\nChips and Mild Fresh Tomato Salsa          1\nChips and Roasted Chili Corn Salsa        23\nChips and Roasted Chili-Corn Salsa        18\nChips and Tomatillo Green Chili Salsa     45\nChips and Tomatillo Red Chili Salsa       50\nChips and Tomatillo-Green Chili Salsa     33\nChips and Tomatillo-Red Chili Salsa       25\nCrispy Tacos                               2\nIzze                                      20\nNantucket Nectar                          29\nSalad                                      2\nSide of Chips                            110\nSteak Bowl                               221\nSteak Burrito                            386\nSteak Crispy Tacos                        36\nSteak Salad                                4\nSteak Salad Bowl                          31\nSteak Soft Tacos                          56\nVeggie Bowl                               87\nVeggie Burrito                            97\nVeggie Crispy Tacos                        1\nVeggie Salad                               6\nVeggie Salad Bowl                         18\nVeggie Soft Tacos                          8\nName: quantity, dtype: int64"
     },
     "execution_count": 31,
     "metadata": {},
     "output_type": "execute_result"
    }
   ],
   "source": [
    "# 음식 주문 량\n",
    "df.groupby('item_name')['quantity'].sum()"
   ],
   "metadata": {
    "collapsed": false,
    "pycharm": {
     "name": "#%%\n"
    }
   }
  },
  {
   "cell_type": "markdown",
   "source": [
    "## Series.plot()"
   ],
   "metadata": {
    "collapsed": false,
    "pycharm": {
     "name": "#%% md\n"
    }
   }
  },
  {
   "cell_type": "code",
   "execution_count": 32,
   "outputs": [
    {
     "data": {
      "text/plain": "<Figure size 576x720 with 1 Axes>",
      "image/png": "[encoded data removed]"
     },
     "metadata": {},
     "output_type": "display_data"
    }
   ],
   "source": [
    "plt.subplots(figsize=(8, 10))\n",
    "per = df.groupby('item_name')['quantity'].sum() / df.groupby('item_name')['order_id'].count() - 1\n",
    "per.plot(kind='barh')\n",
    "# plt.barh(per.index, per.values)\n",
    "plt.show()"
   ],
   "metadata": {
    "collapsed": false,
    "pycharm": {
     "name": "#%%\n"
    }
   }
  },
  {
   "cell_type": "code",
   "execution_count": 33,
   "outputs": [
    {
     "data": {
      "text/plain": "<Figure size 576x720 with 1 Axes>",
      "image/png": "[encoded data removed]"
     },
     "metadata": {},
     "output_type": "display_data"
    }
   ],
   "source": [
    "plt.subplots(figsize=(8, 10))\n",
    "df.groupby('item_name')['quantity'].sum().plot(kind='barh')\n",
    "plt.show()"
   ],
   "metadata": {
    "collapsed": false,
    "pycharm": {
     "name": "#%%\n"
    }
   }
  },
  {
   "cell_type": "code",
   "execution_count": 34,
   "outputs": [
    {
     "data": {
      "text/plain": "<Figure size 576x720 with 1 Axes>",
      "image/png": "[encoded data removed]"
     },
     "metadata": {},
     "output_type": "display_data"
    }
   ],
   "source": [
    "plt.subplots(figsize=(8, 10))\n",
    "item_quantity = df.groupby('item_name')['quantity'].sum()\n",
    "plt.bar(np.arange(item_quantity.size), item_quantity.values)\n",
    "plt.show()\n"
   ],
   "metadata": {
    "collapsed": false,
    "pycharm": {
     "name": "#%%\n"
    }
   }
  },
  {
   "cell_type": "code",
   "execution_count": 35,
   "outputs": [
    {
     "data": {
      "text/plain": "order_id\n1       11.56\n10      13.20\n100     10.08\n1000    20.50\n1001    10.08\n        ...  \n995     24.95\n996     43.00\n997     22.50\n998     10.88\n999     29.25\nName: item_price, Length: 1834, dtype: float64"
     },
     "execution_count": 35,
     "metadata": {},
     "output_type": "execute_result"
    }
   ],
   "source": [
    "# 테이블 당 낸 금액\n",
    "sum_by_order_id = df.groupby('order_id')['item_price'].sum()\n",
    "sum_by_order_id"
   ],
   "metadata": {
    "collapsed": false,
    "pycharm": {
     "name": "#%%\n"
    }
   }
  },
  {
   "cell_type": "code",
   "execution_count": 36,
   "outputs": [
    {
     "data": {
      "text/plain": "18.811428571428568"
     },
     "execution_count": 36,
     "metadata": {},
     "output_type": "execute_result"
    }
   ],
   "source": [
    "# 테이블 당 낸 금액의 평균\n",
    "df.groupby('order_id')['item_price'].sum().mean()"
   ],
   "metadata": {
    "collapsed": false,
    "pycharm": {
     "name": "#%%\n"
    }
   }
  },
  {
   "cell_type": "code",
   "execution_count": 37,
   "outputs": [
    {
     "data": {
      "text/plain": "array(['1000', '1004', '1006', '1010', '1012', '1013', '1016', '1017',\n       '1026', '103', '1030', '1031', '1033', '1035', '1038', '1041',\n       '1044', '1051', '1052', '1057', '1059', '1063', '1070', '1071',\n       '1074', '1076', '1078', '1079', '108', '1080', '1082', '1085',\n       '1087', '1088', '1091', '1092', '1095', '1097', '110', '1102',\n       '1103', '1106', '1110', '1113', '1115', '1116', '1126', '1128',\n       '1136', '1138', '1140', '1142', '1153', '1154', '1156', '1157',\n       '1158', '1166', '1167', '1168', '1169', '1170', '1171', '1175',\n       '1176', '1182', '1188', '1189', '1191', '1193', '1196', '1206',\n       '1208', '1209', '1221', '1222', '1223', '1224', '1226', '1228',\n       '123', '124', '1243', '1244', '1248', '125', '1250', '1255',\n       '1257', '126', '1261', '1269', '1270', '1271', '1276', '128',\n       '1282', '1283', '1289', '129', '1294', '1296', '1297', '1304',\n       '1317', '132', '1320', '1322', '1323', '1330', '1331', '1334',\n       '1336', '134', '1341', '1343', '1353', '1356', '1357', '1360',\n       '1361', '1364', '1367', '1368', '1381', '1382', '1386', '1388',\n       '1389', '1392', '1395', '1396', '1398', '1402', '1409', '1410',\n       '1411', '1413', '1414', '1418', '1419', '1425', '1426', '1429',\n       '1431', '1433', '1434', '1440', '1443', '1444', '1449', '1450',\n       '1453', '1454', '1455', '146', '1460', '1461', '1462', '1470',\n       '1472', '1474', '1476', '1477', '148', '1480', '1483', '149',\n       '1492', '1502', '1509', '1511', '1512', '1517', '152', '1521',\n       '1522', '1526', '1533', '1534', '1537', '1538', '1539', '1540',\n       '1541', '1544', '1547', '1554', '1556', '1559', '1561', '1572',\n       '1577', '1580', '1585', '1586', '1588', '1592', '1598', '1601',\n       '1603', '1607', '1610', '1611', '1613', '1615', '1626', '1627',\n       '1633', '1643', '1646', '1647', '1648', '1652', '1655', '1657',\n       '1659', '166', '1660', '1662', '1664', '1670', '1673', '1679',\n       '1684', '1686', '1690', '1691', '1692', '1695', '1696', '1699',\n       '1700', '1701', '1703', '1708', '1713', '1714', '1717', '1718',\n       '1719', '1724', '1726', '1730', '1731', '1735', '1737', '1738',\n       '1742', '1745', '1746', '1747', '1748', '1750', '1751', '176',\n       '1761', '1764', '1766', '1768', '1772', '1775', '178', '1780',\n       '1786', '1789', '1793', '1798', '18', '1802', '1803', '1805',\n       '1810', '1811', '1812', '182', '1822', '1824', '1825', '1827',\n       '1829', '1830', '1833', '1834', '184', '186', '192', '193', '195',\n       '196', '198', '199', '20', '205', '206', '207', '21', '210', '211',\n       '212', '215', '217', '222', '223', '225', '226', '227', '229',\n       '230', '231', '233', '234', '235', '237', '238', '240', '242',\n       '243', '247', '250', '253', '254', '258', '26', '261', '264',\n       '265', '271', '273', '276', '279', '28', '282', '284', '299', '30',\n       '300', '304', '305', '309', '311', '312', '317', '319', '326',\n       '327', '337', '338', '34', '343', '344', '346', '352', '356',\n       '357', '358', '360', '362', '363', '366', '367', '369', '372',\n       '376', '377', '379', '380', '381', '384', '387', '389', '396', '4',\n       '40', '400', '402', '404', '407', '408', '413', '419', '428', '43',\n       '432', '434', '438', '440', '443', '45', '451', '456', '457',\n       '459', '460', '462', '466', '467', '468', '471', '475', '478',\n       '479', '481', '482', '483', '485', '487', '488', '491', '497',\n       '498', '504', '506', '507', '509', '511', '513', '514', '519',\n       '527', '529', '53', '530', '534', '535', '541', '545', '546',\n       '549', '551', '552', '560', '561', '562', '571', '576', '577',\n       '578', '585', '588', '590', '596', '60', '602', '616', '620',\n       '621', '623', '627', '628', '635', '636', '637', '64', '643',\n       '646', '648', '649', '65', '651', '652', '653', '654', '658',\n       '664', '667', '670', '68', '682', '687', '688', '691', '692',\n       '694', '698', '70', '703', '705', '706', '708', '71', '712', '716',\n       '719', '73', '734', '737', '74', '741', '746', '75', '754', '759',\n       '760', '770', '777', '784', '787', '791', '792', '794', '795',\n       '798', '806', '807', '810', '812', '814', '816', '817', '818',\n       '82', '823', '83', '830', '836', '837', '838', '839', '84', '842',\n       '844', '848', '849', '850', '855', '856', '859', '86', '866',\n       '868', '869', '879', '880', '881', '885', '886', '888', '890',\n       '893', '894', '898', '899', '90', '900', '901', '907', '909',\n       '912', '913', '914', '916', '92', '926', '93', '930', '937', '94',\n       '940', '941', '943', '945', '946', '947', '948', '949', '951',\n       '952', '953', '957', '96', '960', '962', '966', '968', '97', '972',\n       '973', '975', '976', '979', '98', '981', '983', '987', '995',\n       '996', '997', '999'], dtype=object)"
     },
     "execution_count": 37,
     "metadata": {},
     "output_type": "execute_result"
    }
   ],
   "source": [
    "# $20 이상 낸 테이블의 주문 번호 (order_id)\n",
    "sum_by_order_id[sum_by_order_id >= 20].index.values"
   ],
   "metadata": {
    "collapsed": false,
    "pycharm": {
     "name": "#%%\n"
    }
   }
  },
  {
   "cell_type": "code",
   "execution_count": 38,
   "outputs": [
    {
     "data": {
      "text/plain": "Chicken Bowl                             693\nChicken Burrito                          521\nChips and Guacamole                      455\nSteak Burrito                            352\nCanned Soft Drink                        264\nSteak Bowl                               202\nChips                                    193\nBottled Water                            139\nChicken Soft Tacos                       110\nChips and Fresh Tomato Salsa             105\nSide of Chips                             99\nChicken Salad Bowl                        97\nVeggie Burrito                            94\nBarbacoa Burrito                          91\nCanned Soda                               84\nVeggie Bowl                               83\nBarbacoa Bowl                             66\nCarnitas Bowl                             66\nCarnitas Burrito                          58\nSteak Soft Tacos                          54\n6 Pack Soft Drink                         53\nChips and Tomatillo Red Chili Salsa       46\nChicken Crispy Tacos                      44\nChips and Tomatillo Green Chili Salsa     41\nCarnitas Soft Tacos                       40\nSteak Crispy Tacos                        34\nChips and Tomatillo-Green Chili Salsa     29\nSteak Salad Bowl                          27\nBarbacoa Soft Tacos                       25\nNantucket Nectar                          25\nChips and Roasted Chili Corn Salsa        21\nIzze                                      20\nChips and Roasted Chili-Corn Salsa        18\nVeggie Salad Bowl                         18\nChips and Tomatillo-Red Chili Salsa       17\nBarbacoa Crispy Tacos                     10\nBarbacoa Salad Bowl                       10\nChicken Salad                              9\nVeggie Soft Tacos                          6\nBurrito                                    6\nVeggie Salad                               6\nCarnitas Salad Bowl                        6\nCarnitas Crispy Tacos                      6\nSteak Salad                                4\nSalad                                      2\nCrispy Tacos                               2\nVeggie Crispy Tacos                        1\nBowl                                       1\nCarnitas Salad                             1\nChips and Mild Fresh Tomato Salsa          1\nName: item_name, dtype: int64"
     },
     "execution_count": 38,
     "metadata": {},
     "output_type": "execute_result"
    }
   ],
   "source": [
    "# 음식 당 가격\n",
    "one_quantity = df[df.quantity == 1]\n",
    "one_quantity['item_name'].value_counts()"
   ],
   "metadata": {
    "collapsed": false,
    "pycharm": {
     "name": "#%%\n"
    }
   }
  },
  {
   "cell_type": "code",
   "execution_count": 39,
   "outputs": [
    {
     "data": {
      "text/plain": "item_name\n6 Pack Soft Drink                        6.49\nBarbacoa Bowl                            8.69\nBarbacoa Burrito                         8.69\nBarbacoa Crispy Tacos                    8.99\nBarbacoa Salad Bowl                      9.39\nBarbacoa Soft Tacos                      8.99\nBottled Water                            1.09\nBowl                                     7.40\nBurrito                                  7.40\nCanned Soda                              1.09\nCanned Soft Drink                        1.25\nCarnitas Bowl                            8.99\nCarnitas Burrito                         8.69\nCarnitas Crispy Tacos                    8.99\nCarnitas Salad                           8.99\nCarnitas Salad Bowl                      9.39\nCarnitas Soft Tacos                      8.99\nChicken Bowl                             8.19\nChicken Burrito                          8.19\nChicken Crispy Tacos                     8.49\nChicken Salad                            8.19\nChicken Salad Bowl                       8.75\nChicken Soft Tacos                       8.49\nChips                                    1.99\nChips and Fresh Tomato Salsa             2.29\nChips and Guacamole                      3.89\nChips and Mild Fresh Tomato Salsa        3.00\nChips and Roasted Chili Corn Salsa       2.95\nChips and Roasted Chili-Corn Salsa       2.39\nChips and Tomatillo Green Chili Salsa    2.95\nChips and Tomatillo Red Chili Salsa      2.95\nChips and Tomatillo-Green Chili Salsa    2.39\nChips and Tomatillo-Red Chili Salsa      2.39\nCrispy Tacos                             7.40\nIzze                                     3.39\nNantucket Nectar                         3.39\nSalad                                    7.40\nSide of Chips                            1.69\nSteak Bowl                               8.69\nSteak Burrito                            8.69\nSteak Crispy Tacos                       8.69\nSteak Salad                              8.69\nSteak Salad Bowl                         9.39\nSteak Soft Tacos                         8.99\nVeggie Bowl                              8.49\nVeggie Burrito                           8.49\nVeggie Crispy Tacos                      8.49\nVeggie Salad                             8.49\nVeggie Salad Bowl                        8.75\nVeggie Soft Tacos                        8.49\nName: item_price, dtype: float64"
     },
     "execution_count": 39,
     "metadata": {},
     "output_type": "execute_result"
    }
   ],
   "source": [
    "one_quantity.groupby('item_name').item_price.min()"
   ],
   "metadata": {
    "collapsed": false,
    "pycharm": {
     "name": "#%%\n"
    }
   }
  },
  {
   "cell_type": "markdown",
   "source": [
    "DataFrame.min()은 각각의 칼럼에서 가장 작은 값을 가져온 뒤, 합치는 것이다.\n",
    "\n",
    "같은 줄에 있다고 해서 같은 레코드가 아니다!!!"
   ],
   "metadata": {
    "collapsed": false,
    "pycharm": {
     "name": "#%% md\n"
    }
   }
  },
  {
   "cell_type": "code",
   "execution_count": 40,
   "outputs": [
    {
     "data": {
      "text/plain": "              order_id  quantity  \\\nitem_name                          \nBarbacoa Bowl     1000         1   \n\n                                              choice_description  item_price  \nitem_name                                                                     \nBarbacoa Bowl  [Fresh Tomato (Mild), [Lettuce, Black Beans, R...        8.69  ",
      "text/html": "<div>\n<style scoped>\n    .dataframe tbody tr th:only-of-type {\n        vertical-align: middle;\n    }\n\n    .dataframe tbody tr th {\n        vertical-align: top;\n    }\n\n    .dataframe thead th {\n        text-align: right;\n    }\n</style>\n<table border=\"1\" class=\"dataframe\">\n  <thead>\n    <tr style=\"text-align: right;\">\n      <th></th>\n      <th>order_id</th>\n      <th>quantity</th>\n      <th>choice_description</th>\n      <th>item_price</th>\n    </tr>\n    <tr>\n      <th>item_name</th>\n      <th></th>\n      <th></th>\n      <th></th>\n      <th></th>\n    </tr>\n  </thead>\n  <tbody>\n    <tr>\n      <th>Barbacoa Bowl</th>\n      <td>1000</td>\n      <td>1</td>\n      <td>[Fresh Tomato (Mild), [Lettuce, Black Beans, R...</td>\n      <td>8.69</td>\n    </tr>\n  </tbody>\n</table>\n</div>"
     },
     "execution_count": 40,
     "metadata": {},
     "output_type": "execute_result"
    }
   ],
   "source": [
    "one_quantity.groupby('item_name').min()[1:2]"
   ],
   "metadata": {
    "collapsed": false,
    "pycharm": {
     "name": "#%%\n"
    }
   }
  },
  {
   "cell_type": "code",
   "execution_count": 41,
   "outputs": [
    {
     "data": {
      "text/plain": "     order_id  quantity      item_name  \\\n2517     1000         1  Barbacoa Bowl   \n\n                                     choice_description  item_price  \n2517  [Roasted Chili Corn Salsa, [Rice, Black Beans,...        9.25  ",
      "text/html": "<div>\n<style scoped>\n    .dataframe tbody tr th:only-of-type {\n        vertical-align: middle;\n    }\n\n    .dataframe tbody tr th {\n        vertical-align: top;\n    }\n\n    .dataframe thead th {\n        text-align: right;\n    }\n</style>\n<table border=\"1\" class=\"dataframe\">\n  <thead>\n    <tr style=\"text-align: right;\">\n      <th></th>\n      <th>order_id</th>\n      <th>quantity</th>\n      <th>item_name</th>\n      <th>choice_description</th>\n      <th>item_price</th>\n    </tr>\n  </thead>\n  <tbody>\n    <tr>\n      <th>2517</th>\n      <td>1000</td>\n      <td>1</td>\n      <td>Barbacoa Bowl</td>\n      <td>[Roasted Chili Corn Salsa, [Rice, Black Beans,...</td>\n      <td>9.25</td>\n    </tr>\n  </tbody>\n</table>\n</div>"
     },
     "execution_count": 41,
     "metadata": {},
     "output_type": "execute_result"
    }
   ],
   "source": [
    "one_quantity[(one_quantity.order_id == '1000') & (one_quantity.item_name == 'Barbacoa Bowl')]"
   ],
   "metadata": {
    "collapsed": false,
    "pycharm": {
     "name": "#%%\n"
    }
   }
  },
  {
   "cell_type": "code",
   "execution_count": 42,
   "outputs": [
    {
     "data": {
      "text/plain": "a    a\nb    1\ndtype: object"
     },
     "execution_count": 42,
     "metadata": {},
     "output_type": "execute_result"
    }
   ],
   "source": [
    "pd.DataFrame({\n",
    "    'a': ['a', 'b', 'c'],\n",
    "    'b': [3, 2, 1]\n",
    "}).min()"
   ],
   "metadata": {
    "collapsed": false,
    "pycharm": {
     "name": "#%%\n"
    }
   }
  },
  {
   "cell_type": "code",
   "execution_count": 43,
   "outputs": [
    {
     "data": {
      "text/plain": "23"
     },
     "execution_count": 43,
     "metadata": {},
     "output_type": "execute_result"
    }
   ],
   "source": [
    "# 가장 비싼 주문에서 / 아이템이 총 몇 개 팔렸는지 구하기\n",
    "df.groupby('order_id').sum().sort_values(by='item_price', ascending=False).iloc[0].quantity.astype(int)"
   ],
   "metadata": {
    "collapsed": false,
    "pycharm": {
     "name": "#%%\n"
    }
   }
  },
  {
   "cell_type": "code",
   "execution_count": 44,
   "outputs": [
    {
     "data": {
      "text/plain": "633"
     },
     "execution_count": 44,
     "metadata": {},
     "output_type": "execute_result"
    }
   ],
   "source": [
    "# 특정 아이템을 주문 시킨 테이블 수\n",
    "df[(df.item_name == 'Chicken Bowl') | (df.item_name == 'Veggie Salad Bowl')].drop_duplicates(['item_name', 'order_id']).index.size"
   ],
   "metadata": {
    "collapsed": false,
    "pycharm": {
     "name": "#%%\n"
    }
   }
  },
  {
   "cell_type": "code",
   "execution_count": 45,
   "outputs": [
    {
     "data": {
      "text/plain": "114"
     },
     "execution_count": 45,
     "metadata": {},
     "output_type": "execute_result"
    }
   ],
   "source": [
    "# 특정 아이템을 2개 이상 주문한 주문 횟수 구하기\n",
    "\n",
    "# chicken_bowl_quantity는 Index가 order_id고, value가 quantity의 합인 Series\n",
    "chicken_bowl_quantity = df[df.item_name == 'Chicken Bowl'].groupby('order_id').quantity.sum()\n",
    "chicken_bowl_quantity[chicken_bowl_quantity >= 2].size\n"
   ],
   "metadata": {
    "collapsed": false,
    "pycharm": {
     "name": "#%%\n"
    }
   }
  }
 ],
 "metadata": {
  "kernelspec": {
   "display_name": "Python 3",
   "language": "python",
   "name": "python3"
  },
  "language_info": {
   "codemirror_mode": {
    "name": "ipython",
    "version": 2
   },
   "file_extension": ".py",
   "mimetype": "text/x-python",
   "name": "python",
   "nbconvert_exporter": "python",
   "pygments_lexer": "ipython2",
   "version": "2.7.6"
  }
 },
 "nbformat": 4,
 "nbformat_minor": 0
}