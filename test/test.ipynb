{
 "cells": [
  {
   "cell_type": "markdown",
   "source": [
    "각 User가 7번의 룰렛을 돌려 획득한 점수와 상금을 기록한 데이터이다.\n",
    "[데이터셋 위치(경로)](http://jhserver.dimigo.hs.kr/test16.csv)"
   ],
   "metadata": {
    "collapsed": false,
    "pycharm": {
     "name": "#%% md\n"
    }
   }
  },
  {
   "cell_type": "code",
   "execution_count": 1,
   "metadata": {
    "collapsed": true
   },
   "outputs": [],
   "source": [
    "import pandas as pd\n",
    "\n"
   ]
  },
  {
   "cell_type": "code",
   "execution_count": 3,
   "outputs": [],
   "source": [
    "df = pd.read_csv('http://jhserver.dimigo.hs.kr/test16.csv')\n"
   ],
   "metadata": {
    "collapsed": false,
    "pycharm": {
     "name": "#%%\n"
    }
   }
  },
  {
   "cell_type": "code",
   "execution_count": 5,
   "outputs": [
    {
     "data": {
      "text/plain": "     User  First  Second  Third  Fourth  Fifth  Sixth  Seventh  Total     Avg  \\\n0  User33     10      11     30      12     11      6       29    109  15.571   \n1  User38     25       1     23      35     19     17       26    146  20.857   \n2  User20     35       1      1       8      5     20       11     81  11.571   \n3  User12     11       5     11      35      2     10        3     77  11.000   \n4  User14      4      33      2      13     35      5       26    118  16.857   \n\n   Prize  \n0   \\500  \n1  \\1000  \n2   \\500  \n3    NaN  \n4   \\500  ",
      "text/html": "<div>\n<style scoped>\n    .dataframe tbody tr th:only-of-type {\n        vertical-align: middle;\n    }\n\n    .dataframe tbody tr th {\n        vertical-align: top;\n    }\n\n    .dataframe thead th {\n        text-align: right;\n    }\n</style>\n<table border=\"1\" class=\"dataframe\">\n  <thead>\n    <tr style=\"text-align: right;\">\n      <th></th>\n      <th>User</th>\n      <th>First</th>\n      <th>Second</th>\n      <th>Third</th>\n      <th>Fourth</th>\n      <th>Fifth</th>\n      <th>Sixth</th>\n      <th>Seventh</th>\n      <th>Total</th>\n      <th>Avg</th>\n      <th>Prize</th>\n    </tr>\n  </thead>\n  <tbody>\n    <tr>\n      <th>0</th>\n      <td>User33</td>\n      <td>10</td>\n      <td>11</td>\n      <td>30</td>\n      <td>12</td>\n      <td>11</td>\n      <td>6</td>\n      <td>29</td>\n      <td>109</td>\n      <td>15.571</td>\n      <td>\\500</td>\n    </tr>\n    <tr>\n      <th>1</th>\n      <td>User38</td>\n      <td>25</td>\n      <td>1</td>\n      <td>23</td>\n      <td>35</td>\n      <td>19</td>\n      <td>17</td>\n      <td>26</td>\n      <td>146</td>\n      <td>20.857</td>\n      <td>\\1000</td>\n    </tr>\n    <tr>\n      <th>2</th>\n      <td>User20</td>\n      <td>35</td>\n      <td>1</td>\n      <td>1</td>\n      <td>8</td>\n      <td>5</td>\n      <td>20</td>\n      <td>11</td>\n      <td>81</td>\n      <td>11.571</td>\n      <td>\\500</td>\n    </tr>\n    <tr>\n      <th>3</th>\n      <td>User12</td>\n      <td>11</td>\n      <td>5</td>\n      <td>11</td>\n      <td>35</td>\n      <td>2</td>\n      <td>10</td>\n      <td>3</td>\n      <td>77</td>\n      <td>11.000</td>\n      <td>NaN</td>\n    </tr>\n    <tr>\n      <th>4</th>\n      <td>User14</td>\n      <td>4</td>\n      <td>33</td>\n      <td>2</td>\n      <td>13</td>\n      <td>35</td>\n      <td>5</td>\n      <td>26</td>\n      <td>118</td>\n      <td>16.857</td>\n      <td>\\500</td>\n    </tr>\n  </tbody>\n</table>\n</div>"
     },
     "execution_count": 5,
     "metadata": {},
     "output_type": "execute_result"
    }
   ],
   "source": [
    "df.head()"
   ],
   "metadata": {
    "collapsed": false,
    "pycharm": {
     "name": "#%%\n"
    }
   }
  },
  {
   "cell_type": "code",
   "execution_count": 37,
   "outputs": [
    {
     "name": "stdout",
     "output_type": "stream",
     "text": [
      "<class 'pandas.core.frame.DataFrame'>\n",
      "RangeIndex: 10000 entries, 0 to 9999\n",
      "Data columns (total 11 columns):\n",
      " #   Column   Non-Null Count  Dtype  \n",
      "---  ------   --------------  -----  \n",
      " 0   User     10000 non-null  object \n",
      " 1   First    10000 non-null  int64  \n",
      " 2   Second   10000 non-null  int64  \n",
      " 3   Third    10000 non-null  int64  \n",
      " 4   Fourth   10000 non-null  int64  \n",
      " 5   Fifth    10000 non-null  int64  \n",
      " 6   Sixth    10000 non-null  int64  \n",
      " 7   Seventh  10000 non-null  int64  \n",
      " 8   Total    10000 non-null  int64  \n",
      " 9   Avg      10000 non-null  float64\n",
      " 10  Prize    9677 non-null   object \n",
      "dtypes: float64(1), int64(8), object(2)\n",
      "memory usage: 859.5+ KB\n"
     ]
    }
   ],
   "source": [
    "df.info()"
   ],
   "metadata": {
    "collapsed": false,
    "pycharm": {
     "name": "#%%\n"
    }
   }
  },
  {
   "cell_type": "code",
   "execution_count": 38,
   "outputs": [
    {
     "data": {
      "text/plain": "User         0\nFirst        0\nSecond       0\nThird        0\nFourth       0\nFifth        0\nSixth        0\nSeventh      0\nTotal        0\nAvg          0\nPrize      323\ndtype: int64"
     },
     "execution_count": 38,
     "metadata": {},
     "output_type": "execute_result"
    }
   ],
   "source": [
    "df.isnull().sum()"
   ],
   "metadata": {
    "collapsed": false,
    "pycharm": {
     "name": "#%%\n"
    }
   }
  },
  {
   "cell_type": "markdown",
   "source": [
    "1. 주어진 데이터셋을 불러온 후 데이터셋의 자료형(dtype)의 종류와 결측값이 존재하는 컬럼과 개수를 작성하세요"
   ],
   "metadata": {
    "collapsed": false
   }
  },
  {
   "cell_type": "code",
   "execution_count": null,
   "outputs": [],
   "source": [
    "df = pd.read_csv('http://jhserver.dimigo.hs.kr/test16.csv')\n",
    "print(df.info())\n",
    "print(df.isnull().sum())"
   ],
   "metadata": {
    "collapsed": false,
    "pycharm": {
     "name": "#%%\n"
    }
   }
  },
  {
   "cell_type": "markdown",
   "source": [
    " 0   User    - object\n",
    " 1   First   - int64\n",
    " 2   Second  - int64\n",
    " 3   Third   - int64\n",
    " 4   Fourth  - int64\n",
    " 5   Fifth   - int64\n",
    " 6   Sixth   - int64\n",
    " 7   Seventh - int64\n",
    " 8   Total   - int64\n",
    " 9   Avg     - float64\n",
    " 10  Prize   - object\n",
    "\n",
    " Prize 323개"
   ],
   "metadata": {
    "collapsed": false,
    "pycharm": {
     "name": "#%% md\n"
    }
   }
  },
  {
   "cell_type": "code",
   "execution_count": 16,
   "outputs": [
    {
     "name": "stdout",
     "output_type": "stream",
     "text": [
      "User       User39\n",
      "First           3\n",
      "Second          5\n",
      "Third           2\n",
      "Fourth          7\n",
      "Fifth          18\n",
      "Sixth          17\n",
      "Seventh         5\n",
      "Total          57\n",
      "Avg         8.143\n",
      "Prize         NaN\n",
      "Name: 8383, dtype: object\n"
     ]
    }
   ],
   "source": [
    "print(df.sort_values(by='Total')\n",
    "    .iloc[18])"
   ],
   "metadata": {
    "collapsed": false,
    "pycharm": {
     "name": "#%%\n"
    }
   }
  },
  {
   "cell_type": "code",
   "execution_count": null,
   "outputs": [],
   "source": [
    "df.sort_values(by='Total').head(19)"
   ],
   "metadata": {
    "collapsed": false,
    "pycharm": {
     "name": "#%%\n"
    }
   }
  },
  {
   "cell_type": "code",
   "execution_count": 39,
   "outputs": [
    {
     "data": {
      "text/plain": "User\nUser21    32002\nName: Total, dtype: int64"
     },
     "execution_count": 39,
     "metadata": {},
     "output_type": "execute_result"
    }
   ],
   "source": [
    "df.groupby('User').Total.sum().sort_values()[[18]]"
   ],
   "metadata": {
    "collapsed": false,
    "pycharm": {
     "name": "#%%\n"
    }
   }
  },
  {
   "cell_type": "markdown",
   "source": [
    "2. 데이터셋에서 User별 총점의 합 순으로 오름차순 정렬했을 때 본인 번호의 순위에 해당하는 User는 누구인가?(동순위가 발생한 경우 총점의 합이 높은 순으로 작성)"
   ],
   "metadata": {
    "collapsed": false,
    "pycharm": {
     "name": "#%% md\n"
    }
   }
  },
  {
   "cell_type": "code",
   "execution_count": 72,
   "outputs": [
    {
     "name": "stdout",
     "output_type": "stream",
     "text": [
      "User\n",
      "User22    31975\n",
      "User21    32002\n",
      "User28    32303\n",
      "Name: Total, dtype: int64\n"
     ]
    }
   ],
   "source": [
    "print(df.groupby('User').Total.sum().sort_values()[[17, 18, 19]])"
   ],
   "metadata": {
    "collapsed": false,
    "pycharm": {
     "name": "#%%\n"
    }
   }
  },
  {
   "cell_type": "code",
   "execution_count": null,
   "outputs": [],
   "source": [
    "# 24 version\n",
    "print(df.groupby('User').Total.sum().sort_values()[[22, 23, 24]])"
   ],
   "metadata": {
    "collapsed": false,
    "pycharm": {
     "name": "#%%\n"
    }
   }
  },
  {
   "cell_type": "code",
   "execution_count": 83,
   "outputs": [
    {
     "name": "stdout",
     "output_type": "stream",
     "text": [
      "User\n",
      "User4     33812\n",
      "User27    34176\n",
      "User30    34274\n",
      "Name: Total, dtype: int64\n"
     ]
    }
   ],
   "source": [
    "# 32 version\n",
    "print(df.groupby('User').Total.sum().sort_values()[[30, 31, 32]])"
   ],
   "metadata": {
    "collapsed": false,
    "pycharm": {
     "name": "#%%\n"
    }
   }
  },
  {
   "cell_type": "code",
   "execution_count": 50,
   "outputs": [
    {
     "name": "stdout",
     "output_type": "stream",
     "text": [
      "<class 'pandas.core.frame.DataFrame'>\n",
      "RangeIndex: 10000 entries, 0 to 9999\n",
      "Data columns (total 11 columns):\n",
      " #   Column   Non-Null Count  Dtype  \n",
      "---  ------   --------------  -----  \n",
      " 0   User     10000 non-null  object \n",
      " 1   First    10000 non-null  int64  \n",
      " 2   Second   10000 non-null  int64  \n",
      " 3   Third    10000 non-null  int64  \n",
      " 4   Fourth   10000 non-null  int64  \n",
      " 5   Fifth    10000 non-null  int64  \n",
      " 6   Sixth    10000 non-null  int64  \n",
      " 7   Seventh  10000 non-null  int64  \n",
      " 8   Total    10000 non-null  int64  \n",
      " 9   Avg      10000 non-null  float64\n",
      " 10  Prize    9677 non-null   object \n",
      "dtypes: float64(1), int64(8), object(2)\n",
      "memory usage: 859.5+ KB\n"
     ]
    }
   ],
   "source": [
    "df.info()"
   ],
   "metadata": {
    "collapsed": false,
    "pycharm": {
     "name": "#%%\n"
    }
   }
  },
  {
   "cell_type": "code",
   "execution_count": 53,
   "outputs": [],
   "source": [
    "df.Prize = df.Prize.fillna('\\\\0')\n",
    "df.Prize = df.Prize.apply(lambda x: int(x[1:]))"
   ],
   "metadata": {
    "collapsed": false,
    "pycharm": {
     "name": "#%%\n"
    }
   }
  },
  {
   "cell_type": "code",
   "execution_count": 54,
   "outputs": [
    {
     "data": {
      "text/plain": "     User  First  Second  Third  Fourth  Fifth  Sixth  Seventh  Total     Avg  \\\n0  User33     10      11     30      12     11      6       29    109  15.571   \n1  User38     25       1     23      35     19     17       26    146  20.857   \n2  User20     35       1      1       8      5     20       11     81  11.571   \n3  User12     11       5     11      35      2     10        3     77  11.000   \n4  User14      4      33      2      13     35      5       26    118  16.857   \n\n   Prize  \n0    500  \n1   1000  \n2    500  \n3      0  \n4    500  ",
      "text/html": "<div>\n<style scoped>\n    .dataframe tbody tr th:only-of-type {\n        vertical-align: middle;\n    }\n\n    .dataframe tbody tr th {\n        vertical-align: top;\n    }\n\n    .dataframe thead th {\n        text-align: right;\n    }\n</style>\n<table border=\"1\" class=\"dataframe\">\n  <thead>\n    <tr style=\"text-align: right;\">\n      <th></th>\n      <th>User</th>\n      <th>First</th>\n      <th>Second</th>\n      <th>Third</th>\n      <th>Fourth</th>\n      <th>Fifth</th>\n      <th>Sixth</th>\n      <th>Seventh</th>\n      <th>Total</th>\n      <th>Avg</th>\n      <th>Prize</th>\n    </tr>\n  </thead>\n  <tbody>\n    <tr>\n      <th>0</th>\n      <td>User33</td>\n      <td>10</td>\n      <td>11</td>\n      <td>30</td>\n      <td>12</td>\n      <td>11</td>\n      <td>6</td>\n      <td>29</td>\n      <td>109</td>\n      <td>15.571</td>\n      <td>500</td>\n    </tr>\n    <tr>\n      <th>1</th>\n      <td>User38</td>\n      <td>25</td>\n      <td>1</td>\n      <td>23</td>\n      <td>35</td>\n      <td>19</td>\n      <td>17</td>\n      <td>26</td>\n      <td>146</td>\n      <td>20.857</td>\n      <td>1000</td>\n    </tr>\n    <tr>\n      <th>2</th>\n      <td>User20</td>\n      <td>35</td>\n      <td>1</td>\n      <td>1</td>\n      <td>8</td>\n      <td>5</td>\n      <td>20</td>\n      <td>11</td>\n      <td>81</td>\n      <td>11.571</td>\n      <td>500</td>\n    </tr>\n    <tr>\n      <th>3</th>\n      <td>User12</td>\n      <td>11</td>\n      <td>5</td>\n      <td>11</td>\n      <td>35</td>\n      <td>2</td>\n      <td>10</td>\n      <td>3</td>\n      <td>77</td>\n      <td>11.000</td>\n      <td>0</td>\n    </tr>\n    <tr>\n      <th>4</th>\n      <td>User14</td>\n      <td>4</td>\n      <td>33</td>\n      <td>2</td>\n      <td>13</td>\n      <td>35</td>\n      <td>5</td>\n      <td>26</td>\n      <td>118</td>\n      <td>16.857</td>\n      <td>500</td>\n    </tr>\n  </tbody>\n</table>\n</div>"
     },
     "execution_count": 54,
     "metadata": {},
     "output_type": "execute_result"
    }
   ],
   "source": [
    "df.head()"
   ],
   "metadata": {
    "collapsed": false,
    "pycharm": {
     "name": "#%%\n"
    }
   }
  },
  {
   "cell_type": "code",
   "execution_count": 61,
   "outputs": [
    {
     "data": {
      "text/plain": "        User  First  Second  Third  Fourth  Fifth  Sixth  Seventh  Total  \\\n6530  User14     19      35     24      22     36     34       34    204   \n4294  User32     19      31     27      21     21     32       14    165   \n5957   User9     19      35     33      14     27     24       13    165   \n3644  User12     19      31     17      34     23     12       33    169   \n1433   User1     19      35     21      25     34      5       25    164   \n1552  User38     19      18     30      33     14     28       29    171   \n3505  User26     19       7     29      35     25     26       24    165   \n5505  User13     19      33     28      26     35     21       36    198   \n1664   User3     19      33     32      30     21     33       25    193   \n7788   User5     19      23     15      34     19     33       17    160   \n\n         Avg  Prize  \n6530  29.143   3000  \n4294  23.571   2000  \n5957  23.571   2000  \n3644  24.143   2000  \n1433  23.429   2000  \n1552  24.429   2000  \n3505  23.571   2000  \n5505  28.286   2000  \n1664  27.571   2000  \n7788  22.857   2000  ",
      "text/html": "<div>\n<style scoped>\n    .dataframe tbody tr th:only-of-type {\n        vertical-align: middle;\n    }\n\n    .dataframe tbody tr th {\n        vertical-align: top;\n    }\n\n    .dataframe thead th {\n        text-align: right;\n    }\n</style>\n<table border=\"1\" class=\"dataframe\">\n  <thead>\n    <tr style=\"text-align: right;\">\n      <th></th>\n      <th>User</th>\n      <th>First</th>\n      <th>Second</th>\n      <th>Third</th>\n      <th>Fourth</th>\n      <th>Fifth</th>\n      <th>Sixth</th>\n      <th>Seventh</th>\n      <th>Total</th>\n      <th>Avg</th>\n      <th>Prize</th>\n    </tr>\n  </thead>\n  <tbody>\n    <tr>\n      <th>6530</th>\n      <td>User14</td>\n      <td>19</td>\n      <td>35</td>\n      <td>24</td>\n      <td>22</td>\n      <td>36</td>\n      <td>34</td>\n      <td>34</td>\n      <td>204</td>\n      <td>29.143</td>\n      <td>3000</td>\n    </tr>\n    <tr>\n      <th>4294</th>\n      <td>User32</td>\n      <td>19</td>\n      <td>31</td>\n      <td>27</td>\n      <td>21</td>\n      <td>21</td>\n      <td>32</td>\n      <td>14</td>\n      <td>165</td>\n      <td>23.571</td>\n      <td>2000</td>\n    </tr>\n    <tr>\n      <th>5957</th>\n      <td>User9</td>\n      <td>19</td>\n      <td>35</td>\n      <td>33</td>\n      <td>14</td>\n      <td>27</td>\n      <td>24</td>\n      <td>13</td>\n      <td>165</td>\n      <td>23.571</td>\n      <td>2000</td>\n    </tr>\n    <tr>\n      <th>3644</th>\n      <td>User12</td>\n      <td>19</td>\n      <td>31</td>\n      <td>17</td>\n      <td>34</td>\n      <td>23</td>\n      <td>12</td>\n      <td>33</td>\n      <td>169</td>\n      <td>24.143</td>\n      <td>2000</td>\n    </tr>\n    <tr>\n      <th>1433</th>\n      <td>User1</td>\n      <td>19</td>\n      <td>35</td>\n      <td>21</td>\n      <td>25</td>\n      <td>34</td>\n      <td>5</td>\n      <td>25</td>\n      <td>164</td>\n      <td>23.429</td>\n      <td>2000</td>\n    </tr>\n    <tr>\n      <th>1552</th>\n      <td>User38</td>\n      <td>19</td>\n      <td>18</td>\n      <td>30</td>\n      <td>33</td>\n      <td>14</td>\n      <td>28</td>\n      <td>29</td>\n      <td>171</td>\n      <td>24.429</td>\n      <td>2000</td>\n    </tr>\n    <tr>\n      <th>3505</th>\n      <td>User26</td>\n      <td>19</td>\n      <td>7</td>\n      <td>29</td>\n      <td>35</td>\n      <td>25</td>\n      <td>26</td>\n      <td>24</td>\n      <td>165</td>\n      <td>23.571</td>\n      <td>2000</td>\n    </tr>\n    <tr>\n      <th>5505</th>\n      <td>User13</td>\n      <td>19</td>\n      <td>33</td>\n      <td>28</td>\n      <td>26</td>\n      <td>35</td>\n      <td>21</td>\n      <td>36</td>\n      <td>198</td>\n      <td>28.286</td>\n      <td>2000</td>\n    </tr>\n    <tr>\n      <th>1664</th>\n      <td>User3</td>\n      <td>19</td>\n      <td>33</td>\n      <td>32</td>\n      <td>30</td>\n      <td>21</td>\n      <td>33</td>\n      <td>25</td>\n      <td>193</td>\n      <td>27.571</td>\n      <td>2000</td>\n    </tr>\n    <tr>\n      <th>7788</th>\n      <td>User5</td>\n      <td>19</td>\n      <td>23</td>\n      <td>15</td>\n      <td>34</td>\n      <td>19</td>\n      <td>33</td>\n      <td>17</td>\n      <td>160</td>\n      <td>22.857</td>\n      <td>2000</td>\n    </tr>\n  </tbody>\n</table>\n</div>"
     },
     "execution_count": 61,
     "metadata": {},
     "output_type": "execute_result"
    }
   ],
   "source": [
    "df[df.First == 19].sort_values(by='Prize', ascending=False).head(10)"
   ],
   "metadata": {
    "collapsed": false,
    "pycharm": {
     "name": "#%%\n"
    }
   }
  },
  {
   "cell_type": "code",
   "execution_count": 62,
   "outputs": [
    {
     "data": {
      "text/plain": "User       User37\nFirst          19\nSecond         32\nThird          31\nFourth         16\nFifth          20\nSixth          34\nSeventh        30\nTotal         182\nAvg            26\nPrize        2000\nName: 8563, dtype: object"
     },
     "execution_count": 62,
     "metadata": {},
     "output_type": "execute_result"
    }
   ],
   "source": [
    "df[df.First == 19].sort_values(by=['Prize', 'Total'], ascending=False).iloc[5]"
   ],
   "metadata": {
    "collapsed": false,
    "pycharm": {
     "name": "#%%\n"
    }
   }
  },
  {
   "cell_type": "markdown",
   "source": [
    "3. 데이터셋에서 첫 번째 획득 점수가 자신의 번호와 같은 게임 중에서 여섯 번째로 가장 많은 상금을 획득한 User는 누구인가?(동순위가 발생한 경우 총점의 합이 높은 경우로 작성)"
   ],
   "metadata": {
    "collapsed": false,
    "pycharm": {
     "name": "#%% md\n"
    }
   }
  },
  {
   "cell_type": "code",
   "execution_count": null,
   "outputs": [],
   "source": [
    "df.Prize = df.Prize.fillna('\\\\0')\n",
    "df.Prize = df.Prize.apply(lambda x: int(x[1:]))\n",
    "print(df[df.First == 19].sort_values(by=['Prize', 'Total'], ascending=False).iloc[5])"
   ],
   "metadata": {
    "collapsed": false,
    "pycharm": {
     "name": "#%%\n"
    }
   }
  },
  {
   "cell_type": "code",
   "execution_count": 80,
   "outputs": [
    {
     "name": "stdout",
     "output_type": "stream",
     "text": [
      "User       User17\n",
      "First          32\n",
      "Second         24\n",
      "Third          31\n",
      "Fourth         24\n",
      "Fifth          34\n",
      "Sixth          25\n",
      "Seventh        22\n",
      "Total         192\n",
      "Avg        27.429\n",
      "Prize        2000\n",
      "Name: 1573, dtype: object\n"
     ]
    }
   ],
   "source": [
    "# 24 ver\n",
    "print(df[df.First == 32].sort_values(by=['Prize', 'Total'], ascending=False).iloc[5])"
   ],
   "metadata": {
    "collapsed": false,
    "pycharm": {
     "name": "#%%\n"
    }
   }
  },
  {
   "cell_type": "markdown",
   "source": [
    "4. Python의 Collections모듈에서 deque 컨테이너의 pop()함수와 remove() 함수의 차이저을 간략히 기술하세요"
   ],
   "metadata": {
    "collapsed": false,
    "pycharm": {
     "name": "#%% md\n"
    }
   }
  },
  {
   "cell_type": "code",
   "execution_count": 63,
   "outputs": [],
   "source": [
    "from collections import deque"
   ],
   "metadata": {
    "collapsed": false,
    "pycharm": {
     "name": "#%%\n"
    }
   }
  },
  {
   "cell_type": "code",
   "execution_count": 64,
   "outputs": [],
   "source": [
    "a = deque([1, 2, 1, 3, 1, 4])"
   ],
   "metadata": {
    "collapsed": false,
    "pycharm": {
     "name": "#%%\n"
    }
   }
  },
  {
   "cell_type": "code",
   "execution_count": 65,
   "outputs": [],
   "source": [
    "a.remove(1)"
   ],
   "metadata": {
    "collapsed": false,
    "pycharm": {
     "name": "#%%\n"
    }
   }
  },
  {
   "cell_type": "code",
   "execution_count": 66,
   "outputs": [
    {
     "name": "stdout",
     "output_type": "stream",
     "text": [
      "deque([2, 1, 3, 1, 4])\n"
     ]
    }
   ],
   "source": [
    "print(a)"
   ],
   "metadata": {
    "collapsed": false,
    "pycharm": {
     "name": "#%%\n"
    }
   }
  }
 ],
 "metadata": {
  "kernelspec": {
   "display_name": "Python 3",
   "language": "python",
   "name": "python3"
  },
  "language_info": {
   "codemirror_mode": {
    "name": "ipython",
    "version": 2
   },
   "file_extension": ".py",
   "mimetype": "text/x-python",
   "name": "python",
   "nbconvert_exporter": "python",
   "pygments_lexer": "ipython2",
   "version": "2.7.6"
  }
 },
 "nbformat": 4,
 "nbformat_minor": 0
}