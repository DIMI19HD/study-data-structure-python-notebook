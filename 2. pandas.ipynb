{
 "cells": [
  {
   "cell_type": "code",
   "execution_count": 1,
   "metadata": {
    "collapsed": true
   },
   "outputs": [],
   "source": [
    "import pandas as pd"
   ]
  },
  {
   "cell_type": "markdown",
   "source": [
    "# Pandas\n",
    "panel + data\n",
    "## Series\n",
    "1차원\n",
    "Index - Value"
   ],
   "metadata": {
    "collapsed": false,
    "pycharm": {
     "name": "#%% md\n"
    }
   }
  },
  {
   "cell_type": "code",
   "execution_count": 2,
   "outputs": [
    {
     "data": {
      "text/plain": "0    1\n1    3\n2    5\n3    7\n4    9\ndtype: int64"
     },
     "execution_count": 2,
     "metadata": {},
     "output_type": "execute_result"
    }
   ],
   "source": [
    "data = [1, 3, 5, 7, 9]\n",
    "pd.Series(data)"
   ],
   "metadata": {
    "collapsed": false,
    "pycharm": {
     "name": "#%%\n"
    }
   }
  },
  {
   "cell_type": "markdown",
   "source": [
    "## DataFrame\n",
    "2차원\n",
    "Key - Values(columns)"
   ],
   "metadata": {
    "collapsed": false,
    "pycharm": {
     "name": "#%% md\n"
    }
   }
  },
  {
   "cell_type": "code",
   "execution_count": 3,
   "outputs": [],
   "source": [
    "data1 = {\n",
    "    'year': [2016, 2017, 2018],\n",
    "    'GDP rate': [2.8, 3.1, 3.0],\n",
    "    'GDP': ['1.637M', '1.73M', '1.83M']\n",
    "}\n",
    "df = pd.DataFrame(data1)"
   ],
   "metadata": {
    "collapsed": false,
    "pycharm": {
     "name": "#%%\n"
    }
   }
  },
  {
   "cell_type": "code",
   "execution_count": 4,
   "outputs": [
    {
     "data": {
      "text/plain": "0    2016\n1    2017\n2    2018\nName: year, dtype: int64"
     },
     "execution_count": 4,
     "metadata": {},
     "output_type": "execute_result"
    }
   ],
   "source": [
    "df.year"
   ],
   "metadata": {
    "collapsed": false,
    "pycharm": {
     "name": "#%%\n"
    }
   }
  },
  {
   "cell_type": "code",
   "execution_count": 5,
   "outputs": [
    {
     "data": {
      "text/plain": "   year  GDP rate    GDP\n1  2017       3.1  1.73M\n2  2018       3.0  1.83M",
      "text/html": "<div>\n<style scoped>\n    .dataframe tbody tr th:only-of-type {\n        vertical-align: middle;\n    }\n\n    .dataframe tbody tr th {\n        vertical-align: top;\n    }\n\n    .dataframe thead th {\n        text-align: right;\n    }\n</style>\n<table border=\"1\" class=\"dataframe\">\n  <thead>\n    <tr style=\"text-align: right;\">\n      <th></th>\n      <th>year</th>\n      <th>GDP rate</th>\n      <th>GDP</th>\n    </tr>\n  </thead>\n  <tbody>\n    <tr>\n      <th>1</th>\n      <td>2017</td>\n      <td>3.1</td>\n      <td>1.73M</td>\n    </tr>\n    <tr>\n      <th>2</th>\n      <td>2018</td>\n      <td>3.0</td>\n      <td>1.83M</td>\n    </tr>\n  </tbody>\n</table>\n</div>"
     },
     "execution_count": 5,
     "metadata": {},
     "output_type": "execute_result"
    }
   ],
   "source": [
    "df[df.year > 2016]"
   ],
   "metadata": {
    "collapsed": false,
    "pycharm": {
     "name": "#%%\n"
    }
   }
  },
  {
   "cell_type": "code",
   "execution_count": 6,
   "outputs": [
    {
     "name": "stdout",
     "output_type": "stream",
     "text": [
      "<class 'pandas.core.frame.DataFrame'>\n",
      "RangeIndex: 3 entries, 0 to 2\n",
      "Data columns (total 3 columns):\n",
      " #   Column    Non-Null Count  Dtype  \n",
      "---  ------    --------------  -----  \n",
      " 0   year      3 non-null      int64  \n",
      " 1   GDP rate  3 non-null      float64\n",
      " 2   GDP       3 non-null      object \n",
      "dtypes: float64(1), int64(1), object(1)\n",
      "memory usage: 200.0+ bytes\n"
     ]
    }
   ],
   "source": [
    "df.info()\n",
    "# numeric, non-numeric"
   ],
   "metadata": {
    "collapsed": false,
    "pycharm": {
     "name": "#%%\n"
    }
   }
  },
  {
   "cell_type": "code",
   "execution_count": 7,
   "outputs": [
    {
     "data": {
      "text/plain": "         year  GDP rate\ncount     3.0  3.000000\nmean   2017.0  2.966667\nstd       1.0  0.152753\nmin    2016.0  2.800000\n25%    2016.5  2.900000\n50%    2017.0  3.000000\n75%    2017.5  3.050000\nmax    2018.0  3.100000",
      "text/html": "<div>\n<style scoped>\n    .dataframe tbody tr th:only-of-type {\n        vertical-align: middle;\n    }\n\n    .dataframe tbody tr th {\n        vertical-align: top;\n    }\n\n    .dataframe thead th {\n        text-align: right;\n    }\n</style>\n<table border=\"1\" class=\"dataframe\">\n  <thead>\n    <tr style=\"text-align: right;\">\n      <th></th>\n      <th>year</th>\n      <th>GDP rate</th>\n    </tr>\n  </thead>\n  <tbody>\n    <tr>\n      <th>count</th>\n      <td>3.0</td>\n      <td>3.000000</td>\n    </tr>\n    <tr>\n      <th>mean</th>\n      <td>2017.0</td>\n      <td>2.966667</td>\n    </tr>\n    <tr>\n      <th>std</th>\n      <td>1.0</td>\n      <td>0.152753</td>\n    </tr>\n    <tr>\n      <th>min</th>\n      <td>2016.0</td>\n      <td>2.800000</td>\n    </tr>\n    <tr>\n      <th>25%</th>\n      <td>2016.5</td>\n      <td>2.900000</td>\n    </tr>\n    <tr>\n      <th>50%</th>\n      <td>2017.0</td>\n      <td>3.000000</td>\n    </tr>\n    <tr>\n      <th>75%</th>\n      <td>2017.5</td>\n      <td>3.050000</td>\n    </tr>\n    <tr>\n      <th>max</th>\n      <td>2018.0</td>\n      <td>3.100000</td>\n    </tr>\n  </tbody>\n</table>\n</div>"
     },
     "execution_count": 7,
     "metadata": {},
     "output_type": "execute_result"
    }
   ],
   "source": [
    "df.describe()  # 기초 통계량 (numeric에 한해서)"
   ],
   "metadata": {
    "collapsed": false,
    "pycharm": {
     "name": "#%%\n"
    }
   }
  },
  {
   "cell_type": "code",
   "execution_count": 8,
   "outputs": [],
   "source": [
    "df['GDP'] = df['GDP'].apply(lambda x: x[:-1]).astype(float)"
   ],
   "metadata": {
    "collapsed": false,
    "pycharm": {
     "name": "#%%\n"
    }
   }
  },
  {
   "cell_type": "code",
   "execution_count": 9,
   "outputs": [
    {
     "name": "stdout",
     "output_type": "stream",
     "text": [
      "<class 'pandas.core.frame.DataFrame'>\n",
      "RangeIndex: 3 entries, 0 to 2\n",
      "Data columns (total 3 columns):\n",
      " #   Column    Non-Null Count  Dtype  \n",
      "---  ------    --------------  -----  \n",
      " 0   year      3 non-null      int64  \n",
      " 1   GDP rate  3 non-null      float64\n",
      " 2   GDP       3 non-null      float64\n",
      "dtypes: float64(2), int64(1)\n",
      "memory usage: 200.0 bytes\n"
     ]
    }
   ],
   "source": [
    "df.info()"
   ],
   "metadata": {
    "collapsed": false,
    "pycharm": {
     "name": "#%%\n"
    }
   }
  },
  {
   "cell_type": "code",
   "execution_count": 10,
   "outputs": [
    {
     "data": {
      "text/plain": "         year  GDP rate       GDP\ncount     3.0  3.000000  3.000000\nmean   2017.0  2.966667  1.732333\nstd       1.0  0.152753  0.096521\nmin    2016.0  2.800000  1.637000\n25%    2016.5  2.900000  1.683500\n50%    2017.0  3.000000  1.730000\n75%    2017.5  3.050000  1.780000\nmax    2018.0  3.100000  1.830000",
      "text/html": "<div>\n<style scoped>\n    .dataframe tbody tr th:only-of-type {\n        vertical-align: middle;\n    }\n\n    .dataframe tbody tr th {\n        vertical-align: top;\n    }\n\n    .dataframe thead th {\n        text-align: right;\n    }\n</style>\n<table border=\"1\" class=\"dataframe\">\n  <thead>\n    <tr style=\"text-align: right;\">\n      <th></th>\n      <th>year</th>\n      <th>GDP rate</th>\n      <th>GDP</th>\n    </tr>\n  </thead>\n  <tbody>\n    <tr>\n      <th>count</th>\n      <td>3.0</td>\n      <td>3.000000</td>\n      <td>3.000000</td>\n    </tr>\n    <tr>\n      <th>mean</th>\n      <td>2017.0</td>\n      <td>2.966667</td>\n      <td>1.732333</td>\n    </tr>\n    <tr>\n      <th>std</th>\n      <td>1.0</td>\n      <td>0.152753</td>\n      <td>0.096521</td>\n    </tr>\n    <tr>\n      <th>min</th>\n      <td>2016.0</td>\n      <td>2.800000</td>\n      <td>1.637000</td>\n    </tr>\n    <tr>\n      <th>25%</th>\n      <td>2016.5</td>\n      <td>2.900000</td>\n      <td>1.683500</td>\n    </tr>\n    <tr>\n      <th>50%</th>\n      <td>2017.0</td>\n      <td>3.000000</td>\n      <td>1.730000</td>\n    </tr>\n    <tr>\n      <th>75%</th>\n      <td>2017.5</td>\n      <td>3.050000</td>\n      <td>1.780000</td>\n    </tr>\n    <tr>\n      <th>max</th>\n      <td>2018.0</td>\n      <td>3.100000</td>\n      <td>1.830000</td>\n    </tr>\n  </tbody>\n</table>\n</div>"
     },
     "execution_count": 10,
     "metadata": {},
     "output_type": "execute_result"
    }
   ],
   "source": [
    "df.describe()"
   ],
   "metadata": {
    "collapsed": false,
    "pycharm": {
     "name": "#%%\n"
    }
   }
  },
  {
   "cell_type": "markdown",
   "source": [
    "## Panel\n",
    "3차원\n"
   ],
   "metadata": {
    "collapsed": false,
    "pycharm": {
     "name": "#%% md\n"
    }
   }
  }
 ],
 "metadata": {
  "kernelspec": {
   "display_name": "Python 3",
   "language": "python",
   "name": "python3"
  },
  "language_info": {
   "codemirror_mode": {
    "name": "ipython",
    "version": 2
   },
   "file_extension": ".py",
   "mimetype": "text/x-python",
   "name": "python",
   "nbconvert_exporter": "python",
   "pygments_lexer": "ipython2",
   "version": "2.7.6"
  }
 },
 "nbformat": 4,
 "nbformat_minor": 0
}